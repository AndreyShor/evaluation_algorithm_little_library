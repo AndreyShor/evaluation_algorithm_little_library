{
 "cells": [
  {
   "cell_type": "markdown",
   "metadata": {},
   "source": [
    "# Evalution Algorithm, Andrejs Sorstkins - Task 1"
   ]
  },
  {
   "cell_type": "markdown",
   "metadata": {},
   "source": [
    "## Part 1: Create Library "
   ]
  },
  {
   "cell_type": "markdown",
   "metadata": {},
   "source": [
    "Function to plot graph for assignment"
   ]
  },
  {
   "cell_type": "code",
   "execution_count": null,
   "metadata": {
    "scrolled": false
   },
   "outputs": [],
   "source": [
    "# plot graf function\n",
    "\n",
    "import numpy as np\n",
    "import matplotlib.pyplot as plt\n",
    "\n",
    "# arrayFloat - array of fitneses of individuals in each generation, numberOFGenerations - number of generations\n",
    "\n",
    "def plotGraph(arrayFloat, numberOFGenerations):\n",
    "    x = np.arange(0, numberOFGenerations)\n",
    "    y = np.array(arrayFloat)\n",
    "    plt.title(\"Line graph\")\n",
    "    plt.xlabel(\"Generations\")\n",
    "    plt.ylabel(\"Fitnes of generations\")\n",
    "    plt.plot(x, y, color =\"green\")\n",
    "    plt.show("
   ]
  },
  {
   "cell_type": "markdown",
   "metadata": {},
   "source": [
    "There will be step bt step implementation of Steady-State Binary Genetic Algorithm in future cells"
   ]
  },
  {
   "cell_type": "markdown",
   "metadata": {},
   "source": [
    "## First step: Generate population, genearte random genotype"
   ]
  },
  {
   "cell_type": "code",
   "execution_count": 329,
   "metadata": {
    "scrolled": false
   },
   "outputs": [
    {
     "name": "stdout",
     "output_type": "stream",
     "text": [
      "[[[1, 1, 1, 1, 1, 1, 1, 0]], [[0, 1, 1, 1, 0, 0, 1, 0]]]\n"
     ]
    },
    {
     "data": {
      "text/plain": [
       "[[[1, 1, 1, 1, 1, 1, 1, 0]], [[0, 1, 1, 1, 0, 0, 1, 0]]]"
      ]
     },
     "execution_count": 329,
     "metadata": {},
     "output_type": "execute_result"
    }
   ],
   "source": [
    "import random\n",
    "\n",
    "genotypeRow = 1\n",
    "genotypeColumn = 8\n",
    "\n",
    "def generatePopulation(populationSize, row, column):\n",
    "    \n",
    "    populationArray = []\n",
    "    for child in range(populationSize):\n",
    "        newColumn = []\n",
    "        for x in range(row):\n",
    "            newRow = []\n",
    "            for y in range(column):\n",
    "                if random.randint(0,100) < random.randint(0,100):\n",
    "                    newRow.append(0)\n",
    "                else:\n",
    "                    newRow.append(1)\n",
    "            newColumn.append(newRow)\n",
    "        populationArray.append(newColumn)\n",
    "    print(populationArray)\n",
    "    return populationArray\n",
    "\n",
    "    \n",
    "generatePopulation(2, genotypeRow, genotypeColumn)"
   ]
  },
  {
   "cell_type": "markdown",
   "metadata": {},
   "source": [
    "Goal of this app to create binary image of \"G A\" word"
   ]
  },
  {
   "cell_type": "code",
   "execution_count": null,
   "metadata": {
    "scrolled": false
   },
   "outputs": [],
   "source": [
    "# Fitness goal \n",
    "\n",
    "# 00011110000011000\n",
    "# 00100001000101100\n",
    "# 01000000001000110\n",
    "# 00100111001111110\n",
    "# 00011101001000010\n",
    "\n",
    "goal = [\n",
    "       [0,0,0,1,1,1,1,0,0,0,0,0,1,1,0,0,0],\n",
    "       [0,0,1,0,0,0,0,1,0,0,0,1,0,1,1,0,0],\n",
    "       [0,1,0,0,0,0,0,0,0,0,1,0,0,0,1,1,0],\n",
    "       [0,0,1,0,0,1,1,1,0,0,1,1,1,1,1,1,0],\n",
    "       [0,0,0,1,1,1,0,1,0,0,1,0,0,0,0,1,0]\n",
    "]\n",
    "\n",
    "test = [\n",
    "       [0,0,1,1,1,0,1,0,0,0,0,0,1,1,0,0,0],\n",
    "       [0,1,1,0,0,0,0,1,0,0,0,1,0,1,1,0,0],\n",
    "       [0,1,0,0,0,0,0,0,0,0,1,0,0,0,1,1,0],\n",
    "       [0,0,1,0,0,0,1,1,0,0,1,1,1,1,1,1,0],\n",
    "       [0,0,0,1,1,1,0,1,0,0,0,0,0,0,0,1,0]\n",
    "]\n"
   ]
  },
  {
   "cell_type": "markdown",
   "metadata": {},
   "source": [
    "## Second step: Create fitness function which will be evaluating current genotype "
   ]
  },
  {
   "cell_type": "code",
   "execution_count": null,
   "metadata": {
    "scrolled": false
   },
   "outputs": [],
   "source": [
    "def estimateFitness(target, row, column):\n",
    "\n",
    "    fitnessValueNumerator  = 0\n",
    "    fitnessValueDenominator = column * row\n",
    "\n",
    "    for y in range(row):\n",
    "        for x in range(column):\n",
    "            if target[y][x] == goal[y][x]:\n",
    "                fitnessValueNumerator = fitnessValueNumerator + 1\n",
    "\n",
    "\n",
    "\n",
    "    if fitnessValueNumerator == 0:\n",
    "        return 0\n",
    "    else:\n",
    "        return fitnessValueNumerator / fitnessValueDenominator\n",
    "                \n",
    "        \n",
    "\n"
   ]
  },
  {
   "cell_type": "code",
   "execution_count": null,
   "metadata": {
    "scrolled": false
   },
   "outputs": [],
   "source": [
    "print(estimateFitness(test, genotypeRow, genotypeColumn))"
   ]
  },
  {
   "cell_type": "markdown",
   "metadata": {},
   "source": [
    "## Third Step: Selection Individuals, it will return 2 best individuals"
   ]
  },
  {
   "cell_type": "code",
   "execution_count": null,
   "metadata": {
    "scrolled": false
   },
   "outputs": [],
   "source": [
    "import collections\n",
    "    \n",
    "def selection(population, firstIndividum, secondIndividum):\n",
    "    populationEstimation = {};\n",
    "    counter = 0;\n",
    "\n",
    "    for individual in population:\n",
    "        individualFitness = estimateFitness(individual, genotypeRow, genotypeColumn)\n",
    "        populationEstimation[counter] = individualFitness;\n",
    "        counter = counter + 1;\n",
    "    \n",
    "    sorted_x = sorted(populationEstimation.items(), key=lambda kv: kv[1], reverse=True)\n",
    "    \n",
    "    for x in sorted_x:\n",
    "        print(\"///////////////\")\n",
    "        print(x)\n",
    "    \n",
    "    return population[sorted_x[firstIndividum][0]], population[sorted_x[secondIndividum][0]]\n",
    "    \n",
    "        "
   ]
  },
  {
   "cell_type": "code",
   "execution_count": null,
   "metadata": {
    "scrolled": false
   },
   "outputs": [],
   "source": [
    "\n",
    "\n",
    "female, male = selection(generatePopulation(7, genotypeRow, genotypeColumn), 0, 1)"
   ]
  },
  {
   "cell_type": "markdown",
   "metadata": {},
   "source": [
    "## Fourth Step: Crossover of selected individuals, one point crossover"
   ]
  },
  {
   "cell_type": "code",
   "execution_count": null,
   "metadata": {
    "scrolled": false
   },
   "outputs": [],
   "source": [
    "\n",
    "\n",
    "def crossover(female, male):\n",
    "    \n",
    "    offspring = []\n",
    "    cut = random.randint(1, genotypeColumn-1) # randomy select cut point\n",
    "    \n",
    "#     print(\"Cut point: \" + str(cut))\n",
    "#     print(\"Female: \")\n",
    "#     for row in female:\n",
    "#         print(\"1: \" + str(row))\n",
    "#     print(\"Male: \")\n",
    "#     for row in male:\n",
    "#         print(\"1: \" + str(row))\n",
    "    \n",
    "    for x in range(genotypeRow):\n",
    "        offspringRow = female[x][0:cut] + male[x][cut:]\n",
    "        offspring.append(offspringRow)\n",
    "    \n",
    "#     print(\"Offspring: \")\n",
    "#     for row in offspring:\n",
    "#         print(\"1: \" + str(row))\n",
    "\n",
    "    return offspring\n",
    "        \n",
    "        \n",
    "        \n",
    "        \n",
    "        \n",
    "    "
   ]
  },
  {
   "cell_type": "code",
   "execution_count": null,
   "metadata": {
    "scrolled": false
   },
   "outputs": [],
   "source": [
    "crossover(female, male)"
   ]
  },
  {
   "cell_type": "markdown",
   "metadata": {},
   "source": [
    "## Fifth Step: Mutation one of the individual, program will mutate n number of random points"
   ]
  },
  {
   "cell_type": "code",
   "execution_count": null,
   "metadata": {
    "scrolled": false
   },
   "outputs": [],
   "source": [
    "def mutation(offspring, numberMutationPoints):\n",
    "    \n",
    "    for x in range(numberMutationPoints):\n",
    "        randomRowMutationPoint = random.randint(0, genotypeRow) # randomy select cut point\n",
    "        randomColumnMutationPoint = random.randint(0, genotypeColumn) # randomy select cut point\n",
    "        \n",
    "        print(\"Point, Row \" + str(randomRowMutationPoint) + \" Column \" + str(randomColumnMutationPoint))\n",
    "        \n",
    "        if offspring[randomRowMutationPoint][randomColumnMutationPoint] == 0:\n",
    "            offspring[randomRowMutationPoint][randomColumnMutationPoint] = 1\n",
    "        else:\n",
    "            offspring[randomRowMutationPoint][randomColumnMutationPoint] = 0\n",
    "    \n",
    "    return offspring\n",
    "    "
   ]
  },
  {
   "cell_type": "code",
   "execution_count": null,
   "metadata": {
    "scrolled": false
   },
   "outputs": [],
   "source": [
    "    print(\"offspring Before : \")\n",
    "    for row in female:\n",
    "        print(\"1: \" + str(row))\n",
    "        \n",
    "    after = mutation(female, 3)\n",
    "    print(\"offspring After : \")\n",
    "    print(after)\n",
    "\n",
    "    for row in after:\n",
    "        print(\"1: \" + str(row))"
   ]
  },
  {
   "cell_type": "markdown",
   "metadata": {},
   "source": [
    "# Steady-State Binary GA in OOP style"
   ]
  },
  {
   "cell_type": "code",
   "execution_count": null,
   "metadata": {
    "scrolled": false
   },
   "outputs": [],
   "source": [
    "import random\n",
    "import collections\n",
    "\n",
    "class steadyStateBinaryGA:\n",
    "\n",
    "    def __init__(self, populationSize, genotypeRow, genotypeColumn, goal):\n",
    "        self.populationSize = populationSize\n",
    "        self.genotypeRow = genotypeRow\n",
    "        self.genotypeColumn = genotypeColumn\n",
    "        self.populationArray = []\n",
    "        self.populationEstimation = {}\n",
    "        self.goal = goal\n",
    "        self.generateRandomPopulation()\n",
    "\n",
    "    def generateRandomPopulation(self):\n",
    "\n",
    "        for child in range(self.populationSize):\n",
    "            newColumn = []\n",
    "            for x in range(self.genotypeRow):\n",
    "                newRow = []\n",
    "                for y in range(self.genotypeColumn):\n",
    "                    if random.randint(0, 100) < random.randint(0, 100):\n",
    "                        newRow.append(0)\n",
    "                    else:\n",
    "                        newRow.append(1)\n",
    "                newColumn.append(newRow)\n",
    "            self.populationArray.append(newColumn)\n",
    "        print(self.populationArray)\n",
    "        return self.populationArray\n",
    "\n",
    "    def estimateFitness(self, target):\n",
    "\n",
    "        fitnessValueNumerator = 0\n",
    "        fitnessValueDenominator = self.genotypeColumn * self.genotypeRow\n",
    "\n",
    "        for y in range(self.genotypeRow):\n",
    "            for x in range(self.genotypeColumn):\n",
    "                if target[y][x] == self.goal[y][x]:\n",
    "                    fitnessValueNumerator = fitnessValueNumerator + 1\n",
    "\n",
    "        if fitnessValueNumerator == 0:\n",
    "            return 0\n",
    "        else:\n",
    "            return fitnessValueNumerator / fitnessValueDenominator\n",
    "\n",
    "    def selection(self, firstIndividum, secondIndividum):\n",
    "        counter = 0\n",
    "\n",
    "        for individual in self.populationArray:\n",
    "            individualFitness = self.estimateFitness(individual)\n",
    "            self.populationEstimation[counter] = individualFitness\n",
    "            counter = counter + 1\n",
    "\n",
    "        self.populationEstimation = sorted(self.populationEstimation.items(), key=lambda kv: kv[1], reverse=True)\n",
    "        female = self.populationArray[self.populationEstimation[firstIndividum][0]]\n",
    "        male = self.populationArray[self.populationEstimation[secondIndividum][0]]\n",
    "        self.populationEstimation = self.Convert(self.populationEstimation)\n",
    "        return female, male\n",
    "\n",
    "    def crossover(self, female, male):\n",
    "\n",
    "        offspring = []\n",
    "        cut = random.randint(1, self.genotypeColumn - 1)  # randomy select cut point\n",
    "\n",
    "        for x in range(self.genotypeRow):\n",
    "            offspringRow = female[x][0:cut] + male[x][cut:]\n",
    "            offspring.append(offspringRow)\n",
    "\n",
    "        return offspring\n",
    "\n",
    "    def mutation(self, offspring, numberMutationPoints):\n",
    "\n",
    "        for x in range(numberMutationPoints):\n",
    "            randomRowMutationPoint = random.randint(0, self.genotypeRow - 1)  # randomy select cut point\n",
    "            randomColumnMutationPoint = random.randint(0, self.genotypeColumn - 1)  # randomy select cut point\n",
    "\n",
    "            if offspring[randomRowMutationPoint][randomColumnMutationPoint] == 0:\n",
    "                offspring[randomRowMutationPoint][randomColumnMutationPoint] = 1\n",
    "            else:\n",
    "                offspring[randomRowMutationPoint][randomColumnMutationPoint] = 0\n",
    "\n",
    "        return offspring\n",
    "\n",
    "    def checkWorst(self, offspring):\n",
    "        targetFitness = self.estimateFitness(offspring)\n",
    "        currentWorstKey = list(self.populationEstimation.keys())[-1]\n",
    "        currentWorstValue = self.populationEstimation[currentWorstKey]\n",
    "        if currentWorstValue >= targetFitness:\n",
    "            return True\n",
    "        else:\n",
    "            return False\n",
    "\n",
    "    def replaceWorst(self, offspring):\n",
    "        currentWorstKey = list(self.populationEstimation.keys())[-1]\n",
    "        self.populationArray[currentWorstKey] = offspring\n",
    "\n",
    "    def getBestOffspring(self):\n",
    "        bestOffspringKey = list(self.populationEstimation.keys())[0]\n",
    "        return self.populationArray[bestOffspringKey], self.populationEstimation[bestOffspringKey]\n",
    "\n",
    "    def Convert(self, a):\n",
    "        res_dct = dict(a)\n",
    "        return res_dct\n",
    "\n",
    "\n",
    "    "
   ]
  },
  {
   "cell_type": "markdown",
   "metadata": {},
   "source": [
    "## Main Program Evaltion Function"
   ]
  },
  {
   "cell_type": "code",
   "execution_count": null,
   "metadata": {
    "scrolled": false
   },
   "outputs": [],
   "source": [
    "def evalutionOFProblem(crossoverRate, mutationRate, numberGenerations, populationSize):\n",
    "    goal = [\n",
    "        [0, 0, 0, 1, 1, 1, 1, 0, 0, 0, 0, 0, 1, 1, 0, 0, 0],\n",
    "        [0, 0, 1, 0, 0, 0, 0, 1, 0, 0, 0, 1, 0, 1, 1, 0, 0],\n",
    "        [0, 1, 0, 0, 0, 0, 0, 0, 0, 0, 1, 0, 0, 0, 1, 1, 0],\n",
    "        [0, 0, 1, 0, 0, 1, 1, 1, 0, 0, 1, 1, 1, 1, 1, 1, 0],\n",
    "        [0, 0, 0, 1, 1, 1, 0, 1, 0, 0, 1, 0, 0, 0, 0, 1, 0]\n",
    "    ]\n",
    "\n",
    "    crossoverRate = crossoverRate  # 70 / 100 * 100 = 70%\n",
    "    mutationRate = mutationRate  # 30 / 1000 * 100 = 3%\n",
    "    numberGenerations = numberGenerations\n",
    "    populationSize = populationSize\n",
    "    generationBestArray = []\n",
    "    BestResult = []\n",
    "\n",
    "    program = steadyStateBinaryGA(populationSize, 5, 17, goal)\n",
    "\n",
    "    currentGeneration = 0\n",
    "    while currentGeneration <= numberGenerations:\n",
    "\n",
    "        selectBestMale = 0\n",
    "        selectBestFemale = 1\n",
    "\n",
    "        while True:\n",
    "\n",
    "            female, male = program.selection(selectBestMale, selectBestFemale)\n",
    "\n",
    "            r = random.randrange(0, 100)\n",
    "\n",
    "            if r < crossoverRate:\n",
    "                offspring = program.crossover(female, male)\n",
    "            else:\n",
    "                offspring, estimation = program.getBestOffspring()\n",
    "\n",
    "            r = random.randrange(0, 1000)\n",
    "            numberOFMutationPoints = random.randrange(1, 5)\n",
    "\n",
    "            if r < mutationRate:\n",
    "                offspring = program.mutation(offspring, numberOFMutationPoints)\n",
    "\n",
    "            if program.checkWorst(offspring) and not (selectBestFemale >= populationSize - 1):\n",
    "                selectBestMale = selectBestMale + 1\n",
    "                selectBestFemale = selectBestFemale + 1\n",
    "            else:\n",
    "                program.replaceWorst(offspring)\n",
    "                break\n",
    "\n",
    "        currentBestOffspring, estimation = program.getBestOffspring()\n",
    "        generationBestArray.append(estimation)\n",
    "        currentGeneration = currentGeneration + 1\n",
    "        if currentGeneration >= numberGenerations:\n",
    "            BestResult = currentBestOffspring\n",
    "\n",
    "    return generationBestArray, generationBestArray[-1], BestResult"
   ]
  },
  {
   "cell_type": "markdown",
   "metadata": {},
   "source": [
    "# Part 2: Hyper-parameter Analysis"
   ]
  },
  {
   "cell_type": "markdown",
   "metadata": {},
   "source": [
    "This section will consist of description and options for recombinations of each hyper-parameters "
   ]
  },
  {
   "cell_type": "markdown",
   "metadata": {},
   "source": [
    "## Base Parameters\n",
    "\n",
    "Base parameters for our sytem will be:\n",
    "1. Population Size - 10 individuals\n",
    "2. Number of generations - 400 \n",
    "3. Crossover rate = 70% \n",
    "4. Mutation rate = 1%\n",
    "\n",
    "We will be deviate fro this parameters to see how do they react on a sustem"
   ]
  },
  {
   "cell_type": "code",
   "execution_count": 318,
   "metadata": {},
   "outputs": [
    {
     "name": "stdout",
     "output_type": "stream",
     "text": [
      "[[[1, 0, 0, 1, 1, 1, 1, 0, 0, 1, 1, 1, 1, 1, 0, 0, 0], [1, 1, 1, 0, 0, 0, 0, 0, 1, 1, 0, 1, 0, 0, 1, 1, 0], [0, 1, 1, 0, 0, 0, 0, 0, 1, 1, 1, 0, 0, 1, 1, 1, 1], [0, 0, 1, 0, 1, 0, 1, 1, 1, 1, 1, 0, 0, 1, 1, 0, 0], [0, 0, 1, 0, 0, 0, 0, 0, 0, 1, 0, 0, 0, 1, 0, 0, 0]], [[1, 0, 1, 1, 0, 0, 1, 1, 1, 1, 1, 1, 1, 0, 0, 0, 1], [1, 1, 1, 1, 0, 1, 1, 1, 1, 1, 1, 0, 1, 0, 1, 1, 1], [0, 1, 1, 0, 0, 1, 1, 0, 1, 1, 1, 0, 0, 0, 0, 1, 0], [1, 1, 0, 1, 1, 1, 1, 1, 1, 0, 1, 0, 0, 1, 1, 1, 1], [1, 0, 1, 1, 1, 0, 0, 0, 1, 0, 0, 1, 1, 1, 1, 0, 0]], [[0, 0, 1, 0, 0, 0, 0, 1, 0, 0, 1, 0, 1, 0, 1, 1, 1], [0, 0, 1, 1, 0, 1, 0, 1, 0, 1, 1, 0, 1, 1, 1, 1, 0], [1, 1, 1, 1, 0, 0, 1, 0, 0, 0, 0, 0, 1, 1, 0, 1, 1], [0, 1, 0, 1, 1, 1, 1, 1, 0, 0, 0, 1, 0, 0, 0, 1, 1], [1, 1, 0, 0, 1, 1, 1, 1, 1, 0, 0, 1, 0, 0, 0, 1, 1]], [[1, 1, 1, 1, 1, 0, 0, 1, 0, 1, 1, 1, 1, 1, 0, 0, 0], [1, 0, 1, 1, 1, 1, 1, 0, 0, 0, 0, 0, 0, 0, 1, 1, 0], [0, 1, 0, 1, 1, 0, 0, 0, 1, 0, 0, 1, 1, 1, 0, 0, 0], [1, 0, 0, 1, 1, 0, 1, 0, 1, 1, 1, 1, 0, 0, 0, 0, 1], [0, 0, 0, 1, 0, 1, 1, 0, 0, 1, 1, 1, 1, 1, 0, 0, 0]], [[1, 1, 0, 1, 0, 0, 0, 1, 1, 1, 0, 1, 0, 1, 0, 0, 1], [1, 0, 1, 1, 1, 1, 0, 1, 1, 0, 0, 1, 0, 0, 1, 1, 1], [0, 1, 1, 0, 1, 1, 0, 0, 0, 1, 1, 0, 0, 1, 1, 1, 1], [1, 1, 1, 1, 1, 1, 1, 1, 0, 0, 0, 1, 0, 1, 1, 1, 1], [0, 1, 0, 1, 1, 0, 0, 1, 0, 0, 1, 1, 1, 1, 1, 1, 0]], [[1, 1, 1, 1, 1, 0, 0, 0, 1, 1, 1, 0, 1, 0, 0, 0, 0], [0, 1, 0, 1, 0, 1, 1, 0, 0, 1, 0, 1, 1, 1, 1, 0, 0], [1, 0, 0, 1, 1, 1, 0, 0, 0, 0, 1, 0, 1, 1, 1, 0, 1], [1, 1, 1, 0, 1, 0, 0, 0, 0, 1, 0, 0, 0, 1, 0, 1, 0], [0, 1, 0, 1, 0, 0, 0, 0, 1, 0, 0, 0, 0, 0, 0, 1, 1]], [[1, 1, 1, 1, 0, 0, 1, 0, 1, 0, 1, 0, 1, 1, 0, 1, 0], [0, 1, 0, 1, 1, 1, 1, 0, 0, 0, 0, 0, 0, 0, 0, 1, 0], [1, 1, 0, 0, 1, 0, 1, 1, 1, 0, 0, 1, 1, 0, 0, 0, 1], [1, 0, 1, 0, 1, 0, 0, 1, 1, 0, 1, 1, 1, 1, 0, 0, 1], [0, 1, 0, 0, 1, 1, 0, 0, 0, 1, 0, 0, 1, 0, 0, 0, 1]], [[1, 0, 1, 0, 0, 1, 0, 1, 0, 1, 1, 0, 0, 1, 0, 0, 1], [0, 0, 1, 0, 0, 0, 0, 0, 0, 1, 0, 0, 0, 1, 0, 1, 0], [1, 1, 0, 1, 1, 1, 0, 1, 1, 0, 1, 1, 1, 0, 0, 0, 1], [0, 0, 1, 0, 0, 1, 1, 1, 0, 1, 0, 0, 1, 1, 1, 1, 0], [0, 1, 1, 0, 0, 0, 1, 0, 0, 1, 1, 0, 0, 0, 0, 1, 0]], [[0, 0, 1, 0, 1, 1, 1, 0, 0, 1, 1, 1, 0, 0, 0, 1, 1], [1, 1, 1, 0, 0, 1, 0, 1, 1, 0, 1, 0, 0, 1, 0, 0, 1], [0, 1, 1, 0, 1, 0, 0, 0, 0, 0, 1, 0, 1, 0, 0, 1, 0], [1, 0, 0, 1, 0, 1, 0, 1, 1, 0, 0, 1, 1, 1, 0, 1, 1], [0, 0, 0, 1, 1, 1, 0, 1, 1, 1, 0, 0, 0, 0, 1, 1, 0]], [[1, 0, 1, 0, 1, 1, 0, 1, 0, 1, 0, 0, 0, 0, 0, 0, 1], [1, 0, 1, 1, 0, 0, 1, 0, 0, 1, 0, 0, 1, 0, 1, 1, 0], [1, 1, 0, 0, 1, 1, 0, 0, 0, 1, 1, 0, 0, 0, 0, 0, 0], [1, 0, 0, 1, 0, 1, 0, 1, 1, 1, 0, 0, 1, 0, 1, 1, 1], [0, 1, 0, 0, 0, 0, 1, 0, 1, 0, 0, 0, 1, 0, 1, 0, 0]]]\n"
     ]
    },
    {
     "data": {
      "image/png": "[encoded data removed]",
      "text/plain": [
       "<Figure size 432x288 with 1 Axes>"
      ]
     },
     "metadata": {
      "needs_background": "light"
     },
     "output_type": "display_data"
    },
    {
     "name": "stdout",
     "output_type": "stream",
     "text": [
      "Best Individual after evalution\n",
      "[1, 0, 0, 1, 1, 1, 1, 0, 0, 1, 1, 1, 0, 1, 0, 0, 0]\n",
      "[0, 1, 1, 0, 1, 0, 0, 0, 0, 0, 0, 1, 0, 1, 1, 1, 0]\n",
      "[0, 1, 0, 0, 0, 0, 0, 0, 1, 1, 1, 0, 0, 0, 1, 1, 1]\n",
      "[0, 0, 1, 0, 1, 1, 1, 1, 0, 1, 1, 0, 1, 1, 1, 0, 0]\n",
      "[0, 0, 1, 1, 1, 0, 0, 0, 0, 0, 1, 0, 0, 1, 0, 1, 0]\n",
      "###############################\n",
      "Fitness of best individual: 76%\n",
      "###############################\n",
      "Avarage Fitness after 10 rounds: 74.3\n"
     ]
    }
   ],
   "source": [
    "from IPython.display import clear_output\n",
    "\n",
    "crossoverRate = 70  # 70 / 100 * 100 = 70%\n",
    "mutationRate = 10  # 30 / 1000 * 100 = 3%\n",
    "numberGenerations = 400\n",
    "populationSize = 10\n",
    "\n",
    "# Test 10 Rounds\n",
    "accuracyEvalution = 0.0\n",
    "numberRounds = 10 \n",
    "for x in range (numberRounds):\n",
    "    clear_output(wait=True)\n",
    "    generations, fitnessBest, bestOffspring = evalutionOFProblem(crossoverRate, mutationRate, numberGenerations, populationSize);\n",
    "    \n",
    "    fitnessBestRound = round(fitnessBest *100)\n",
    "    accuracyEvalution = accuracyEvalution + fitnessBestRound\n",
    "\n",
    "clear_output(wait=True)\n",
    "generations, fitnessBest, bestOffspring = evalutionOFProblem(crossoverRate, mutationRate, numberGenerations, populationSize);\n",
    "\n",
    "# Plot Graph \n",
    "plotGraph(generations, numberGenerations+1)\n",
    "\n",
    "print(\"Best Individual after evalution\")\n",
    "for row in bestOffspring:\n",
    "    print(row)\n",
    "    \n",
    "print(\"###############################\")\n",
    "fitnessBest = round(fitnessBest *100)\n",
    "print(\"Fitness of best individual: \" + str(fitnessBest) + \"%\")\n",
    "print(\"###############################\")\n",
    "result = accuracyEvalution / numberRounds\n",
    "print(\"Avarage Fitness after 10 rounds: \" + str(result))\n",
    "\n"
   ]
  },
  {
   "cell_type": "markdown",
   "metadata": {},
   "source": [
    "I test 5 rounds:\n",
    "    1. Rounds - score 73%\n",
    "    2. Rounds - score 69%\n",
    "    3. Rounds - score 69%\n",
    "    4. Rounds - score 75%\n",
    "    5. Rounds - score 68%\n",
    "    \n",
    "    Avarage Score: 72.4%\n",
    "\n",
    "    \n"
   ]
  },
  {
   "cell_type": "markdown",
   "metadata": {},
   "source": [
    "## Change population size - increase\n",
    "\n",
    "Base parameters for our sytem will be:\n",
    "1. Population Size - 50 individuals\n",
    "2. Number of generations - 400 \n",
    "3. Crossover rate = 70% \n",
    "4. Mutation rate = 1%\n",
    "\n",
    "We increase population size of our experiment "
   ]
  },
  {
   "cell_type": "code",
   "execution_count": 317,
   "metadata": {},
   "outputs": [
    {
     "name": "stdout",
     "output_type": "stream",
     "text": [
      "[[[0, 0, 0, 0, 1, 1, 1, 1, 1, 0, 0, 0, 0, 0, 0, 1, 0], [1, 0, 1, 0, 1, 1, 1, 1, 1, 0, 1, 0, 1, 1, 0, 0, 1], [1, 0, 0, 0, 1, 1, 1, 0, 1, 0, 1, 0, 0, 0, 0, 1, 0], [0, 0, 0, 0, 1, 1, 0, 0, 1, 1, 1, 0, 1, 1, 0, 0, 0], [1, 0, 0, 1, 1, 1, 0, 1, 0, 0, 0, 0, 0, 1, 0, 0, 1]], [[0, 0, 1, 0, 1, 0, 0, 0, 1, 0, 0, 0, 0, 1, 0, 0, 1], [0, 1, 0, 0, 1, 0, 1, 0, 1, 0, 1, 0, 0, 1, 0, 1, 1], [0, 0, 0, 1, 1, 0, 0, 1, 0, 1, 0, 0, 1, 1, 0, 1, 0], [0, 0, 0, 1, 1, 0, 0, 0, 1, 1, 1, 0, 1, 1, 1, 0, 0], [1, 0, 1, 0, 0, 1, 0, 1, 1, 1, 1, 0, 1, 1, 1, 0, 1]], [[1, 1, 1, 0, 0, 1, 1, 1, 1, 0, 1, 1, 1, 0, 0, 0, 1], [1, 0, 0, 0, 1, 1, 0, 0, 1, 1, 0, 1, 1, 1, 0, 0, 1], [1, 1, 0, 1, 0, 0, 1, 1, 1, 0, 1, 0, 1, 0, 0, 1, 1], [0, 0, 0, 0, 0, 1, 0, 0, 1, 0, 0, 1, 0, 0, 0, 1, 0], [1, 1, 1, 0, 1, 0, 0, 0, 0, 1, 0, 1, 0, 0, 1, 1, 1]], [[0, 0, 1, 0, 0, 1, 0, 1, 0, 1, 0, 0, 1, 1, 0, 0, 0], [1, 1, 1, 0, 1, 0, 0, 1, 0, 1, 1, 1, 1, 1, 0, 0, 1], [1, 0, 1, 0, 0, 0, 1, 1, 0, 0, 1, 0, 1, 0, 0, 1, 0], [0, 0, 1, 1, 0, 0, 0, 1, 0, 1, 1, 1, 0, 1, 0, 1, 1], [1, 0, 0, 0, 0, 1, 1, 1, 1, 1, 0, 0, 0, 1, 1, 0, 0]], [[1, 1, 0, 0, 0, 0, 0, 1, 0, 0, 1, 1, 0, 0, 0, 0, 1], [1, 0, 0, 0, 0, 0, 1, 0, 0, 0, 0, 0, 0, 1, 0, 0, 0], [0, 1, 1, 0, 0, 1, 0, 0, 1, 1, 1, 0, 1, 1, 0, 0, 1], [1, 0, 1, 1, 1, 1, 1, 0, 0, 0, 0, 0, 1, 0, 0, 1, 0], [1, 0, 0, 0, 0, 1, 0, 1, 0, 1, 0, 0, 0, 0, 0, 1, 1]], [[0, 1, 0, 1, 0, 1, 0, 1, 0, 1, 0, 1, 0, 1, 1, 0, 0], [0, 1, 0, 0, 1, 0, 0, 0, 0, 0, 0, 1, 1, 1, 0, 1, 1], [1, 1, 0, 0, 0, 0, 0, 0, 0, 0, 1, 0, 0, 1, 0, 1, 1], [0, 1, 1, 0, 0, 1, 1, 0, 0, 1, 1, 1, 1, 0, 0, 1, 1], [1, 0, 1, 1, 1, 0, 0, 1, 0, 0, 0, 0, 0, 0, 0, 1, 1]], [[0, 1, 1, 0, 0, 1, 0, 0, 1, 0, 0, 0, 0, 0, 1, 0, 0], [0, 1, 0, 0, 1, 1, 1, 0, 0, 1, 1, 0, 1, 0, 0, 0, 0], [1, 1, 0, 1, 1, 0, 1, 1, 0, 0, 0, 1, 1, 0, 0, 1, 1], [0, 1, 0, 0, 1, 0, 0, 1, 0, 1, 1, 1, 0, 1, 0, 0, 0], [0, 1, 0, 0, 0, 0, 1, 0, 0, 1, 0, 0, 1, 0, 1, 1, 0]], [[0, 0, 1, 1, 1, 1, 1, 1, 1, 0, 0, 0, 1, 1, 1, 1, 1], [1, 1, 1, 1, 1, 0, 1, 1, 1, 1, 0, 1, 0, 1, 0, 1, 0], [1, 0, 1, 1, 1, 1, 0, 0, 1, 1, 0, 0, 0, 0, 0, 1, 0], [0, 0, 1, 1, 1, 0, 1, 1, 1, 0, 0, 1, 0, 0, 1, 0, 0], [1, 1, 1, 0, 0, 0, 0, 0, 0, 0, 1, 0, 0, 0, 0, 1, 1]], [[0, 1, 1, 0, 1, 1, 1, 1, 0, 0, 1, 0, 0, 1, 0, 1, 0], [0, 0, 1, 0, 0, 0, 0, 0, 0, 1, 0, 1, 0, 1, 1, 1, 0], [1, 1, 1, 0, 1, 0, 0, 1, 0, 1, 1, 1, 0, 0, 1, 0, 1], [1, 0, 0, 1, 0, 1, 1, 0, 0, 0, 1, 1, 0, 1, 1, 0, 1], [1, 1, 1, 1, 1, 1, 1, 0, 0, 0, 1, 0, 0, 1, 0, 0, 1]], [[1, 0, 0, 0, 1, 1, 0, 1, 0, 0, 1, 1, 1, 0, 1, 0, 1], [0, 1, 1, 0, 0, 0, 0, 1, 0, 0, 0, 0, 1, 1, 0, 1, 0], [0, 1, 0, 0, 1, 0, 0, 1, 1, 1, 0, 0, 0, 0, 1, 0, 1], [0, 1, 0, 0, 0, 0, 1, 1, 1, 1, 0, 0, 1, 1, 1, 0, 0], [1, 1, 0, 1, 1, 0, 0, 0, 1, 0, 0, 0, 1, 0, 1, 1, 0]], [[0, 1, 0, 1, 0, 1, 1, 0, 1, 0, 0, 0, 0, 1, 1, 1, 0], [1, 1, 1, 0, 1, 1, 0, 1, 1, 0, 1, 0, 0, 1, 0, 0, 0], [1, 0, 1, 0, 0, 1, 0, 0, 0, 1, 1, 1, 1, 0, 1, 1, 1], [1, 1, 1, 0, 0, 0, 0, 0, 1, 0, 0, 0, 0, 1, 1, 0, 0], [1, 0, 1, 1, 0, 1, 0, 0, 0, 0, 0, 0, 0, 0, 0, 0, 0]], [[0, 0, 0, 0, 1, 0, 0, 0, 0, 1, 1, 1, 0, 0, 0, 0, 0], [0, 1, 0, 1, 1, 1, 0, 0, 1, 1, 0, 1, 1, 0, 1, 1, 1], [0, 0, 0, 0, 1, 1, 1, 0, 0, 0, 1, 1, 1, 1, 1, 0, 0], [1, 1, 0, 1, 0, 1, 1, 0, 1, 0, 1, 0, 0, 1, 0, 0, 0], [1, 1, 1, 0, 0, 0, 0, 1, 0, 0, 1, 1, 0, 1, 0, 0, 0]], [[0, 0, 0, 1, 1, 1, 1, 1, 0, 0, 0, 0, 0, 1, 0, 0, 0], [1, 0, 1, 0, 1, 0, 0, 0, 0, 1, 0, 0, 1, 0, 1, 1, 0], [1, 0, 1, 1, 0, 0, 0, 1, 0, 1, 1, 0, 1, 0, 1, 1, 0], [0, 1, 0, 1, 0, 0, 1, 1, 0, 0, 1, 1, 1, 1, 1, 1, 0], [1, 0, 1, 0, 1, 1, 0, 1, 0, 1, 1, 0, 0, 1, 0, 0, 1]], [[0, 0, 1, 1, 1, 0, 0, 1, 1, 1, 1, 1, 0, 1, 0, 0, 1], [1, 1, 1, 0, 1, 0, 0, 0, 0, 1, 0, 1, 0, 1, 1, 1, 1], [1, 1, 1, 1, 0, 1, 1, 0, 0, 0, 1, 0, 0, 1, 0, 0, 1], [0, 1, 0, 1, 1, 1, 1, 1, 1, 0, 1, 1, 1, 1, 0, 1, 0], [1, 0, 0, 0, 0, 1, 1, 1, 0, 1, 1, 1, 0, 1, 1, 0, 0]], [[1, 1, 1, 1, 0, 0, 1, 0, 0, 0, 1, 1, 1, 1, 0, 0, 0], [0, 0, 1, 1, 0, 1, 1, 1, 0, 1, 1, 1, 1, 1, 0, 0, 1], [0, 0, 0, 1, 0, 1, 1, 0, 0, 1, 0, 1, 0, 1, 0, 0, 1], [1, 1, 0, 0, 0, 1, 0, 0, 1, 1, 0, 0, 0, 1, 1, 1, 1], [1, 0, 0, 0, 0, 1, 1, 0, 1, 1, 1, 0, 0, 0, 1, 1, 0]], [[0, 0, 1, 1, 0, 1, 1, 1, 0, 0, 0, 1, 1, 0, 0, 0, 0], [1, 0, 1, 1, 0, 0, 0, 1, 1, 1, 0, 1, 0, 1, 0, 1, 1], [1, 0, 1, 0, 0, 0, 0, 0, 0, 1, 0, 1, 0, 0, 0, 1, 0], [1, 1, 0, 1, 0, 1, 1, 0, 0, 1, 1, 1, 1, 1, 1, 1, 1], [0, 1, 0, 1, 1, 0, 1, 0, 1, 1, 0, 1, 0, 1, 1, 0, 0]], [[1, 0, 0, 0, 0, 1, 1, 1, 1, 0, 1, 1, 1, 0, 1, 1, 0], [1, 1, 0, 0, 0, 0, 0, 1, 1, 1, 0, 1, 1, 0, 1, 0, 0], [0, 0, 1, 0, 1, 1, 1, 1, 1, 0, 1, 1, 1, 1, 0, 0, 1], [1, 1, 0, 1, 1, 1, 0, 1, 0, 0, 1, 0, 1, 1, 0, 0, 1], [0, 0, 0, 0, 0, 0, 1, 0, 1, 1, 1, 1, 0, 1, 1, 1, 1]], [[1, 1, 0, 1, 1, 1, 0, 1, 1, 0, 0, 0, 0, 1, 0, 1, 1], [1, 0, 0, 0, 0, 1, 1, 0, 0, 1, 1, 1, 1, 1, 1, 0, 0], [1, 1, 0, 0, 1, 1, 1, 1, 0, 1, 0, 0, 0, 1, 0, 0, 1], [1, 1, 1, 1, 0, 0, 1, 0, 0, 1, 0, 1, 1, 1, 0, 1, 1], [0, 1, 1, 1, 0, 1, 1, 0, 0, 0, 1, 1, 0, 0, 0, 1, 0]], [[0, 0, 1, 1, 1, 0, 1, 0, 1, 0, 1, 0, 0, 1, 0, 1, 1], [1, 1, 1, 1, 0, 0, 1, 0, 1, 1, 0, 0, 1, 0, 1, 1, 0], [0, 1, 1, 1, 0, 1, 0, 1, 0, 0, 0, 0, 0, 1, 1, 1, 0], [0, 1, 0, 0, 0, 0, 0, 0, 1, 1, 1, 0, 1, 0, 1, 0, 0], [0, 0, 1, 1, 0, 1, 1, 1, 0, 0, 0, 0, 0, 1, 1, 1, 0]], [[0, 0, 0, 0, 1, 1, 1, 0, 0, 0, 0, 0, 1, 0, 1, 1, 0], [0, 1, 1, 0, 0, 1, 1, 1, 0, 0, 0, 0, 1, 1, 1, 0, 0], [0, 1, 1, 1, 0, 0, 0, 0, 1, 0, 0, 1, 0, 1, 1, 0, 1], [1, 0, 0, 1, 1, 0, 0, 0, 0, 1, 1, 1, 1, 0, 1, 1, 0], [1, 0, 0, 0, 1, 0, 1, 0, 1, 1, 1, 0, 0, 0, 1, 0, 1]], [[0, 1, 1, 1, 0, 0, 0, 1, 0, 0, 1, 1, 0, 1, 0, 1, 1], [1, 0, 1, 1, 1, 0, 0, 1, 1, 0, 1, 1, 0, 1, 0, 0, 1], [1, 1, 1, 0, 1, 0, 0, 0, 1, 0, 0, 1, 1, 0, 0, 0, 1], [1, 1, 1, 1, 0, 1, 1, 1, 1, 0, 1, 1, 0, 1, 0, 0, 1], [1, 1, 0, 0, 0, 1, 0, 1, 1, 0, 0, 0, 0, 0, 0, 0, 1]], [[0, 1, 0, 1, 0, 0, 1, 0, 1, 0, 1, 1, 0, 0, 0, 0, 0], [0, 1, 0, 0, 1, 1, 0, 0, 0, 0, 1, 1, 0, 0, 0, 1, 0], [1, 0, 1, 1, 1, 0, 0, 0, 0, 1, 0, 0, 1, 1, 0, 0, 0], [0, 0, 1, 0, 0, 1, 0, 1, 1, 1, 1, 0, 0, 1, 1, 0, 1], [0, 0, 1, 1, 0, 1, 1, 1, 1, 0, 0, 0, 1, 0, 1, 1, 1]], [[0, 1, 0, 0, 1, 1, 1, 1, 0, 0, 1, 1, 1, 0, 1, 0, 0], [0, 1, 0, 1, 1, 0, 0, 1, 1, 0, 1, 0, 1, 0, 1, 0, 1], [1, 0, 1, 0, 0, 0, 1, 1, 0, 1, 0, 0, 0, 1, 0, 1, 1], [1, 0, 0, 1, 1, 0, 1, 1, 1, 1, 0, 0, 0, 1, 0, 0, 1], [1, 1, 1, 0, 1, 1, 1, 0, 1, 0, 0, 0, 1, 1, 1, 1, 1]], [[0, 1, 0, 1, 1, 0, 0, 1, 1, 0, 0, 0, 1, 1, 0, 0, 1], [0, 1, 0, 1, 1, 1, 1, 0, 1, 0, 0, 1, 1, 0, 1, 1, 1], [0, 1, 0, 0, 0, 0, 1, 1, 0, 1, 0, 1, 0, 0, 0, 1, 0], [0, 0, 0, 1, 0, 0, 0, 1, 0, 1, 1, 0, 1, 0, 1, 0, 1], [1, 1, 1, 1, 1, 1, 0, 1, 0, 1, 0, 1, 1, 0, 1, 0, 0]], [[0, 1, 1, 0, 0, 1, 0, 0, 0, 0, 1, 0, 0, 1, 0, 1, 1], [0, 0, 1, 1, 0, 1, 1, 0, 0, 0, 1, 0, 0, 0, 0, 0, 1], [0, 0, 1, 0, 1, 0, 1, 0, 1, 1, 0, 1, 0, 1, 1, 0, 1], [0, 0, 0, 1, 1, 1, 1, 1, 1, 1, 0, 0, 1, 0, 0, 0, 0], [0, 0, 1, 0, 1, 0, 1, 1, 0, 0, 0, 0, 1, 0, 0, 1, 1]], [[1, 1, 0, 0, 0, 0, 1, 0, 0, 1, 0, 1, 0, 0, 1, 1, 0], [1, 1, 1, 0, 1, 0, 0, 1, 1, 0, 1, 1, 0, 1, 0, 1, 0], [1, 0, 0, 0, 0, 1, 1, 1, 1, 1, 0, 1, 1, 0, 1, 0, 0], [0, 1, 0, 0, 0, 0, 0, 0, 1, 1, 1, 1, 1, 1, 1, 0, 1], [0, 1, 0, 1, 0, 1, 1, 0, 0, 1, 0, 1, 1, 1, 0, 0, 0]], [[1, 0, 0, 0, 0, 0, 1, 0, 0, 1, 1, 1, 0, 1, 0, 0, 1], [1, 0, 0, 1, 0, 1, 0, 0, 1, 1, 0, 1, 1, 1, 0, 0, 0], [1, 1, 0, 1, 0, 1, 1, 1, 0, 1, 1, 0, 1, 0, 1, 1, 0], [1, 0, 1, 0, 1, 0, 0, 0, 0, 1, 0, 1, 0, 1, 1, 1, 1], [1, 1, 0, 0, 0, 1, 1, 0, 0, 0, 1, 0, 1, 0, 0, 1, 1]], [[1, 0, 0, 1, 0, 1, 0, 0, 0, 0, 0, 1, 1, 0, 0, 1, 0], [1, 1, 0, 0, 0, 1, 0, 1, 0, 1, 1, 1, 1, 1, 1, 1, 0], [1, 0, 1, 1, 1, 1, 1, 0, 1, 1, 1, 0, 0, 1, 0, 0, 1], [0, 1, 0, 0, 1, 1, 1, 0, 1, 1, 0, 1, 0, 1, 0, 1, 0], [1, 1, 0, 1, 0, 1, 0, 0, 0, 0, 1, 0, 1, 1, 0, 1, 0]], [[0, 0, 0, 1, 1, 1, 0, 0, 0, 1, 1, 1, 0, 1, 1, 0, 0], [1, 0, 1, 1, 1, 1, 1, 1, 0, 1, 1, 0, 1, 1, 0, 1, 1], [1, 0, 1, 1, 1, 1, 0, 0, 0, 1, 1, 0, 1, 1, 1, 1, 0], [0, 0, 0, 1, 1, 0, 0, 1, 0, 0, 1, 1, 1, 1, 0, 1, 0], [1, 0, 1, 0, 0, 0, 0, 0, 0, 0, 0, 0, 1, 1, 1, 0, 1]], [[1, 0, 1, 0, 0, 0, 1, 0, 1, 1, 0, 0, 0, 1, 1, 1, 1], [0, 0, 0, 0, 0, 0, 0, 0, 0, 1, 1, 1, 1, 0, 0, 0, 1], [1, 1, 0, 1, 1, 1, 1, 0, 1, 1, 1, 0, 0, 0, 1, 0, 1], [1, 1, 0, 0, 1, 1, 1, 0, 1, 0, 0, 0, 0, 1, 1, 1, 0], [1, 1, 1, 0, 1, 0, 1, 1, 1, 1, 1, 0, 1, 1, 1, 1, 1]], [[1, 0, 0, 0, 1, 1, 0, 1, 1, 1, 1, 1, 1, 1, 1, 1, 0], [0, 1, 0, 1, 0, 0, 0, 1, 1, 0, 1, 0, 1, 1, 0, 1, 0], [1, 0, 0, 1, 0, 1, 1, 0, 0, 1, 1, 1, 0, 0, 0, 0, 1], [0, 1, 1, 1, 1, 0, 0, 1, 1, 0, 1, 1, 1, 0, 0, 0, 0], [0, 0, 1, 1, 1, 0, 0, 1, 1, 1, 1, 0, 1, 1, 0, 0, 1]], [[1, 0, 1, 0, 1, 0, 1, 0, 1, 0, 0, 0, 0, 1, 1, 1, 0], [0, 1, 0, 0, 0, 1, 1, 0, 0, 1, 1, 1, 0, 1, 1, 0, 1], [1, 1, 0, 1, 1, 1, 1, 1, 0, 1, 1, 1, 1, 0, 0, 1, 0], [0, 1, 0, 1, 1, 1, 1, 1, 0, 1, 0, 0, 1, 0, 1, 1, 0], [1, 0, 1, 0, 0, 0, 0, 0, 0, 0, 0, 1, 0, 0, 0, 1, 1]], [[0, 0, 1, 0, 1, 0, 0, 0, 0, 1, 1, 1, 0, 1, 1, 0, 1], [1, 1, 1, 1, 0, 0, 1, 1, 0, 0, 0, 1, 0, 0, 1, 0, 1], [1, 0, 0, 0, 0, 0, 0, 0, 0, 1, 1, 0, 1, 1, 0, 1, 1], [1, 1, 1, 1, 0, 0, 0, 0, 1, 0, 1, 0, 0, 1, 1, 0, 0], [1, 0, 1, 0, 1, 0, 1, 0, 0, 0, 1, 1, 0, 0, 1, 0, 1]], [[0, 0, 0, 0, 1, 0, 0, 0, 1, 0, 0, 0, 1, 0, 1, 1, 1], [1, 1, 1, 0, 1, 1, 0, 0, 1, 1, 1, 0, 0, 0, 1, 0, 0], [0, 0, 0, 1, 0, 1, 1, 0, 1, 0, 1, 0, 0, 0, 1, 1, 0], [0, 1, 0, 1, 0, 1, 0, 1, 0, 1, 1, 0, 0, 1, 1, 1, 1], [1, 1, 1, 1, 1, 1, 1, 1, 1, 0, 0, 1, 1, 0, 1, 1, 0]], [[1, 1, 1, 0, 0, 0, 0, 1, 1, 1, 1, 0, 0, 0, 0, 0, 1], [0, 0, 1, 1, 1, 0, 1, 0, 1, 1, 0, 1, 0, 0, 1, 1, 1], [1, 1, 1, 1, 1, 1, 0, 1, 0, 0, 1, 0, 1, 1, 0, 1, 0], [1, 0, 1, 0, 0, 0, 1, 1, 0, 0, 1, 1, 1, 0, 0, 0, 1], [0, 0, 0, 0, 0, 0, 0, 0, 1, 0, 1, 1, 0, 0, 1, 1, 0]], [[1, 1, 0, 0, 1, 0, 1, 0, 1, 0, 0, 1, 0, 1, 1, 1, 0], [1, 1, 0, 1, 1, 1, 0, 1, 0, 0, 1, 1, 1, 1, 1, 1, 0], [1, 1, 0, 0, 1, 0, 1, 0, 0, 0, 1, 1, 1, 0, 1, 0, 1], [1, 1, 0, 0, 1, 1, 0, 0, 0, 0, 0, 1, 0, 0, 0, 1, 1], [1, 1, 1, 0, 1, 1, 0, 1, 1, 1, 1, 0, 1, 1, 0, 1, 1]], [[1, 0, 1, 0, 1, 1, 1, 0, 1, 0, 0, 1, 0, 0, 1, 0, 0], [0, 1, 0, 1, 1, 1, 0, 0, 1, 1, 1, 1, 1, 0, 1, 0, 1], [1, 1, 0, 1, 1, 1, 0, 1, 1, 0, 0, 0, 0, 1, 0, 0, 1], [0, 1, 1, 1, 0, 1, 1, 0, 0, 1, 1, 1, 0, 0, 0, 1, 0], [0, 1, 1, 1, 1, 1, 0, 0, 0, 0, 0, 1, 1, 1, 1, 1, 1]], [[0, 0, 0, 0, 0, 1, 0, 0, 0, 0, 1, 0, 0, 1, 1, 0, 1], [1, 0, 0, 1, 1, 1, 0, 0, 0, 0, 1, 1, 0, 1, 0, 0, 0], [1, 1, 0, 1, 1, 1, 0, 0, 1, 1, 1, 1, 0, 0, 0, 0, 0], [1, 0, 1, 1, 1, 1, 1, 1, 1, 1, 1, 0, 0, 1, 1, 0, 1], [0, 1, 1, 0, 0, 0, 1, 1, 1, 0, 1, 0, 1, 0, 0, 0, 0]], [[1, 0, 1, 0, 0, 0, 0, 0, 0, 0, 0, 1, 0, 0, 0, 0, 1], [0, 0, 0, 0, 1, 1, 0, 0, 0, 1, 1, 1, 0, 1, 0, 1, 0], [1, 0, 1, 1, 1, 0, 0, 0, 1, 0, 0, 1, 0, 1, 0, 1, 1], [0, 1, 1, 1, 1, 1, 1, 0, 0, 0, 0, 1, 0, 0, 1, 0, 1], [1, 1, 1, 0, 0, 0, 1, 1, 0, 0, 1, 1, 1, 0, 0, 1, 1]], [[1, 0, 1, 1, 0, 0, 0, 1, 1, 0, 1, 0, 0, 1, 1, 0, 1], [1, 1, 0, 1, 1, 0, 0, 0, 0, 1, 1, 1, 0, 0, 1, 0, 0], [0, 0, 1, 1, 1, 0, 0, 1, 0, 0, 0, 1, 1, 0, 0, 0, 0], [1, 0, 1, 1, 1, 0, 0, 0, 1, 0, 0, 1, 0, 1, 0, 1, 1], [0, 0, 1, 1, 0, 1, 1, 0, 0, 1, 0, 0, 1, 1, 1, 1, 0]], [[0, 1, 0, 0, 0, 1, 1, 1, 1, 1, 0, 1, 0, 1, 1, 1, 1], [1, 0, 0, 0, 0, 1, 0, 1, 0, 0, 0, 0, 0, 0, 0, 0, 1], [1, 1, 1, 0, 0, 1, 0, 1, 1, 0, 0, 0, 0, 1, 0, 0, 0], [1, 1, 0, 1, 1, 1, 1, 0, 1, 0, 0, 0, 0, 1, 0, 1, 1], [1, 0, 0, 1, 0, 0, 1, 1, 0, 0, 1, 1, 1, 1, 0, 0, 0]], [[1, 0, 0, 1, 1, 1, 0, 0, 0, 1, 1, 1, 1, 0, 1, 0, 0], [0, 1, 1, 1, 1, 1, 1, 0, 0, 0, 0, 1, 1, 0, 1, 1, 0], [0, 0, 0, 0, 0, 1, 0, 0, 0, 0, 0, 0, 0, 1, 0, 0, 0], [1, 1, 1, 1, 1, 1, 1, 1, 1, 1, 0, 1, 1, 1, 1, 0, 1], [0, 1, 1, 1, 0, 1, 0, 0, 1, 0, 1, 0, 1, 1, 1, 0, 0]], [[1, 1, 0, 0, 1, 0, 0, 0, 1, 0, 0, 0, 0, 1, 1, 1, 1], [0, 1, 1, 0, 1, 0, 0, 1, 1, 1, 1, 1, 0, 1, 0, 1, 1], [1, 0, 0, 0, 0, 1, 1, 1, 1, 0, 1, 1, 0, 0, 0, 0, 1], [1, 1, 0, 1, 1, 1, 1, 0, 0, 1, 0, 0, 1, 0, 0, 1, 0], [0, 1, 1, 0, 0, 1, 1, 1, 0, 1, 0, 0, 1, 0, 1, 0, 1]], [[1, 1, 0, 0, 1, 0, 1, 0, 0, 1, 1, 1, 1, 0, 1, 0, 0], [0, 1, 1, 1, 0, 1, 0, 0, 1, 0, 0, 0, 0, 1, 1, 1, 0], [1, 1, 0, 0, 1, 1, 0, 1, 0, 1, 0, 0, 0, 0, 0, 1, 0], [0, 1, 1, 1, 1, 1, 0, 1, 0, 1, 0, 1, 1, 1, 1, 1, 1], [1, 0, 1, 1, 1, 1, 0, 0, 0, 0, 0, 1, 1, 1, 0, 1, 0]], [[0, 0, 0, 0, 1, 0, 1, 0, 1, 1, 1, 1, 1, 0, 0, 0, 0], [0, 0, 0, 1, 1, 0, 1, 1, 1, 0, 1, 1, 0, 1, 1, 0, 0], [0, 1, 0, 0, 1, 0, 0, 1, 0, 0, 1, 0, 1, 1, 0, 1, 0], [1, 1, 0, 1, 0, 0, 0, 1, 1, 1, 0, 1, 0, 1, 1, 0, 1], [0, 1, 1, 0, 1, 1, 1, 1, 0, 1, 0, 0, 0, 1, 1, 0, 1]], [[1, 1, 0, 1, 0, 0, 1, 0, 1, 0, 1, 0, 0, 0, 0, 0, 1], [0, 0, 1, 1, 1, 1, 0, 0, 1, 1, 0, 0, 1, 1, 1, 0, 1], [0, 0, 1, 0, 0, 0, 1, 1, 0, 1, 1, 0, 1, 0, 1, 0, 1], [1, 1, 1, 0, 0, 1, 1, 1, 0, 1, 0, 0, 1, 1, 0, 0, 0], [1, 1, 1, 0, 0, 1, 0, 1, 0, 0, 1, 0, 1, 0, 1, 1, 0]], [[0, 1, 1, 1, 0, 1, 0, 0, 0, 0, 1, 1, 1, 1, 0, 1, 1], [0, 0, 1, 0, 1, 0, 1, 1, 1, 1, 0, 1, 0, 1, 1, 0, 1], [0, 1, 0, 1, 0, 0, 0, 1, 0, 1, 1, 0, 1, 1, 1, 0, 1], [0, 0, 1, 0, 0, 1, 1, 1, 1, 1, 0, 0, 0, 1, 0, 1, 1], [1, 1, 0, 0, 1, 1, 0, 1, 1, 1, 0, 1, 0, 0, 1, 1, 1]], [[0, 0, 0, 0, 1, 1, 0, 0, 1, 0, 1, 0, 0, 0, 0, 0, 0], [1, 1, 0, 1, 0, 1, 1, 1, 1, 0, 0, 1, 0, 0, 1, 0, 0], [1, 1, 1, 0, 0, 0, 0, 1, 1, 0, 0, 0, 1, 0, 1, 1, 1], [1, 1, 0, 0, 0, 1, 0, 0, 0, 0, 1, 0, 1, 1, 1, 1, 1], [1, 0, 1, 1, 1, 1, 0, 1, 0, 1, 0, 1, 0, 0, 0, 1, 1]], [[0, 0, 0, 0, 1, 1, 0, 0, 1, 1, 1, 1, 0, 1, 0, 1, 0], [0, 0, 0, 0, 0, 1, 1, 0, 1, 1, 1, 1, 1, 0, 1, 1, 0], [0, 1, 0, 1, 0, 1, 0, 1, 0, 0, 1, 1, 0, 0, 0, 0, 1], [1, 0, 1, 0, 1, 1, 0, 0, 1, 0, 1, 1, 0, 1, 1, 1, 1], [1, 0, 0, 0, 0, 0, 1, 0, 1, 1, 1, 1, 0, 1, 1, 0, 0]], [[0, 0, 1, 0, 0, 1, 1, 1, 1, 0, 0, 1, 1, 0, 0, 1, 1], [0, 1, 0, 0, 1, 1, 0, 0, 1, 1, 1, 1, 0, 0, 1, 1, 0], [0, 0, 1, 1, 0, 1, 1, 0, 1, 0, 1, 1, 1, 0, 0, 0, 1], [0, 1, 1, 0, 1, 0, 1, 0, 1, 1, 0, 1, 0, 0, 0, 1, 1], [1, 0, 0, 0, 0, 0, 1, 1, 1, 0, 1, 0, 0, 1, 1, 1, 0]]]\n",
      "Change POPULATION SIZE\n"
     ]
    },
    {
     "data": {
      "image/png": "[encoded data removed]",
      "text/plain": [
       "<Figure size 432x288 with 1 Axes>"
      ]
     },
     "metadata": {
      "needs_background": "light"
     },
     "output_type": "display_data"
    },
    {
     "name": "stdout",
     "output_type": "stream",
     "text": [
      "Best Individual after evalution\n",
      "[0, 0, 0, 1, 1, 1, 1, 1, 0, 0, 0, 0, 0, 1, 0, 0, 0]\n",
      "[0, 0, 1, 0, 1, 0, 0, 0, 0, 1, 0, 0, 1, 1, 1, 1, 0]\n",
      "[1, 0, 1, 1, 0, 0, 0, 0, 0, 0, 1, 0, 1, 0, 1, 1, 0]\n",
      "[0, 0, 0, 1, 0, 0, 1, 1, 0, 0, 1, 1, 1, 1, 1, 1, 0]\n",
      "[1, 0, 0, 0, 1, 1, 0, 1, 0, 1, 1, 0, 0, 1, 0, 0, 1]\n",
      "###############################\n",
      "Fitness of best individual: 74%\n",
      "###############################\n",
      "Avarage Fitness after 10 rounds: 76.0\n"
     ]
    }
   ],
   "source": [
    "from IPython.display import clear_output\n",
    "\n",
    "crossoverRate = 70  # 70 / 100 * 100 = 70%\n",
    "mutationRate = 10  # 30 / 1000 * 100 = 3%\n",
    "numberGenerations = 400\n",
    "populationSize = 50 # CHANGED !!!!!!!!!!!\n",
    "\n",
    "# Test 10 Rounds\n",
    "accuracyEvalution = 0.0\n",
    "numberRounds = 10 \n",
    "for x in range (numberRounds):\n",
    "    clear_output(wait=True)\n",
    "    generations, fitnessBest, bestOffspring = evalutionOFProblem(crossoverRate, mutationRate, numberGenerations, populationSize);\n",
    "    \n",
    "    fitnessBestRound = round(fitnessBest *100)\n",
    "    accuracyEvalution = accuracyEvalution + fitnessBestRound\n",
    "\n",
    "clear_output(wait=True)\n",
    "generations, fitnessBest, bestOffspring = evalutionOFProblem(crossoverRate, mutationRate, numberGenerations, populationSize);\n",
    "\n",
    "\n",
    "print(\"Change POPULATION SIZE\")\n",
    "\n",
    "# Plot Graph \n",
    "plotGraph(generations, numberGenerations+1)\n",
    "\n",
    "\n",
    "print(\"Best Individual after evalution\")\n",
    "for row in bestOffspring:\n",
    "    print(row)\n",
    "    \n",
    "print(\"###############################\")\n",
    "fitnessBest = round(fitnessBest *100)\n",
    "print(\"Fitness of best individual: \" + str(fitnessBest) + \"%\")\n",
    "print(\"###############################\")\n",
    "result = accuracyEvalution / numberRounds\n",
    "print(\"Avarage Fitness after 10 rounds: \" + str(result))"
   ]
  },
  {
   "cell_type": "markdown",
   "metadata": {},
   "source": [
    "(i DONT KNOW HOW TO STOP PRINTING SOME RANDOM OUTPUT)\n",
    "\n",
    "Avarage Score: 76.8%\n",
    "\n",
    "\n",
    "\n",
    "After increasing population size, there is visible trend of increase in stagnation regions during evalution proccess.\n",
    "It is propably happening because Steady-State Binary GA is updating worst individual in a population and therefore evalution is happening on worst case basis , therfore this evalution strategy will be more efficient for smaller population sizes and groups"
   ]
  },
  {
   "cell_type": "markdown",
   "metadata": {},
   "source": [
    "## Change mutation rate - increase\n",
    "\n",
    "Base parameters for our sytem will be:\n",
    "1. Population Size - 10 individuals\n",
    "2. Number of generations - 400 \n",
    "3. Crossover rate = 70% \n",
    "4. Mutation rate = 8%\n",
    "\n",
    "We increase mutation rate of our experiment "
   ]
  },
  {
   "cell_type": "code",
   "execution_count": 319,
   "metadata": {
    "scrolled": false
   },
   "outputs": [
    {
     "name": "stdout",
     "output_type": "stream",
     "text": [
      "[[[0, 0, 1, 0, 0, 0, 0, 0, 1, 1, 1, 1, 1, 1, 1, 1, 0], [1, 0, 0, 1, 1, 1, 1, 1, 0, 0, 0, 1, 0, 1, 1, 0, 1], [1, 0, 1, 0, 1, 0, 1, 1, 0, 0, 1, 1, 0, 0, 0, 1, 0], [0, 1, 0, 0, 0, 0, 0, 0, 0, 1, 1, 1, 0, 1, 1, 0, 0], [1, 0, 0, 1, 1, 1, 0, 0, 0, 0, 0, 0, 0, 1, 0, 1, 0]], [[1, 1, 0, 0, 1, 1, 0, 0, 0, 0, 1, 0, 0, 0, 0, 0, 1], [1, 0, 1, 1, 1, 0, 1, 1, 1, 0, 0, 0, 1, 0, 0, 0, 0], [1, 1, 0, 1, 0, 1, 0, 0, 0, 1, 0, 0, 0, 0, 0, 0, 0], [0, 1, 1, 1, 0, 1, 0, 1, 1, 1, 1, 0, 0, 0, 0, 1, 0], [1, 0, 1, 0, 0, 1, 1, 1, 1, 0, 0, 1, 0, 1, 1, 1, 0]], [[0, 0, 0, 1, 1, 1, 0, 0, 1, 1, 0, 1, 0, 1, 1, 1, 0], [0, 1, 0, 1, 1, 0, 1, 0, 0, 0, 1, 0, 0, 0, 1, 1, 0], [0, 1, 1, 1, 0, 0, 0, 0, 0, 1, 0, 0, 1, 1, 1, 0, 1], [1, 1, 1, 1, 1, 1, 1, 0, 0, 1, 1, 0, 1, 0, 1, 0, 0], [0, 0, 0, 0, 0, 1, 0, 0, 1, 0, 0, 0, 1, 1, 1, 1, 1]], [[0, 1, 1, 0, 1, 0, 1, 0, 1, 1, 1, 1, 1, 1, 1, 0, 1], [0, 0, 1, 1, 1, 0, 0, 1, 0, 1, 0, 1, 1, 1, 0, 0, 0], [0, 0, 0, 1, 1, 1, 0, 1, 0, 1, 0, 0, 1, 0, 1, 0, 0], [1, 1, 1, 0, 1, 1, 0, 0, 0, 1, 1, 0, 1, 1, 1, 1, 0], [1, 0, 1, 1, 0, 0, 1, 0, 0, 1, 1, 0, 0, 0, 1, 1, 0]], [[1, 0, 0, 0, 1, 1, 1, 1, 0, 1, 1, 1, 1, 1, 1, 1, 1], [0, 0, 1, 0, 1, 0, 0, 0, 1, 1, 1, 1, 0, 1, 0, 1, 1], [0, 1, 0, 0, 0, 1, 0, 1, 1, 0, 0, 1, 1, 1, 1, 1, 0], [1, 1, 0, 0, 1, 0, 1, 1, 1, 1, 0, 0, 0, 1, 0, 1, 0], [0, 1, 1, 1, 1, 1, 1, 1, 1, 1, 0, 1, 1, 0, 0, 0, 1]], [[0, 1, 1, 0, 0, 0, 0, 1, 0, 1, 0, 0, 0, 1, 1, 1, 0], [1, 0, 1, 0, 0, 0, 0, 1, 1, 0, 1, 1, 0, 0, 0, 1, 0], [1, 0, 1, 0, 1, 0, 0, 1, 0, 1, 0, 1, 1, 1, 0, 1, 0], [0, 1, 0, 0, 0, 0, 0, 1, 0, 1, 0, 0, 0, 1, 0, 0, 0], [0, 0, 1, 0, 1, 1, 1, 0, 1, 0, 0, 1, 1, 1, 0, 1, 0]], [[1, 1, 0, 1, 1, 1, 0, 1, 1, 0, 0, 1, 1, 1, 1, 0, 1], [1, 1, 0, 0, 0, 0, 0, 0, 0, 0, 0, 1, 1, 0, 0, 0, 0], [1, 0, 1, 1, 0, 0, 1, 0, 1, 1, 1, 1, 1, 1, 1, 0, 1], [1, 0, 1, 1, 0, 1, 1, 1, 1, 0, 0, 1, 0, 0, 0, 0, 0], [1, 1, 0, 0, 1, 0, 1, 1, 1, 0, 1, 1, 0, 1, 0, 1, 1]], [[0, 0, 0, 1, 0, 0, 1, 0, 1, 0, 0, 0, 1, 1, 1, 1, 0], [1, 0, 0, 1, 1, 0, 0, 0, 1, 0, 0, 1, 0, 0, 1, 1, 1], [0, 0, 1, 0, 0, 1, 1, 0, 0, 1, 1, 1, 0, 1, 0, 0, 1], [0, 1, 0, 0, 1, 0, 0, 0, 1, 0, 1, 1, 0, 0, 0, 1, 0], [1, 0, 1, 0, 1, 0, 1, 0, 0, 0, 1, 0, 0, 0, 0, 0, 1]], [[0, 1, 1, 1, 0, 1, 1, 0, 1, 1, 1, 1, 1, 0, 0, 0, 1], [0, 0, 1, 1, 1, 0, 1, 0, 1, 0, 0, 0, 0, 1, 0, 0, 1], [1, 0, 1, 1, 1, 1, 0, 1, 1, 0, 1, 1, 0, 1, 1, 1, 0], [1, 0, 0, 0, 1, 1, 0, 0, 1, 1, 0, 1, 1, 1, 1, 1, 0], [0, 0, 0, 0, 1, 1, 0, 0, 0, 1, 0, 0, 1, 0, 0, 0, 1]], [[1, 1, 0, 1, 0, 1, 1, 1, 1, 1, 0, 0, 1, 0, 0, 1, 0], [1, 0, 0, 1, 0, 1, 1, 1, 1, 1, 0, 1, 0, 1, 0, 1, 1], [1, 1, 0, 0, 1, 1, 1, 0, 0, 0, 1, 0, 0, 0, 0, 1, 1], [0, 0, 0, 0, 0, 0, 0, 1, 1, 1, 1, 1, 1, 0, 1, 0, 1], [1, 1, 1, 0, 1, 1, 0, 1, 0, 0, 1, 0, 1, 1, 1, 0, 0]]]\n"
     ]
    },
    {
     "data": {
      "image/png": "[encoded data removed]",
      "text/plain": [
       "<Figure size 432x288 with 1 Axes>"
      ]
     },
     "metadata": {
      "needs_background": "light"
     },
     "output_type": "display_data"
    },
    {
     "name": "stdout",
     "output_type": "stream",
     "text": [
      "Best Individual after evalution\n",
      "[0, 0, 0, 1, 1, 0, 1, 1, 1, 0, 0, 0, 1, 1, 0, 1, 0]\n",
      "[0, 0, 1, 0, 1, 0, 0, 1, 0, 0, 0, 1, 0, 1, 1, 0, 0]\n",
      "[0, 1, 0, 0, 0, 0, 1, 0, 0, 0, 1, 1, 0, 0, 1, 1, 1]\n",
      "[0, 0, 1, 0, 0, 1, 1, 0, 0, 0, 1, 1, 1, 1, 1, 0, 0]\n",
      "[0, 0, 0, 1, 1, 1, 0, 1, 0, 0, 1, 0, 0, 1, 0, 0, 0]\n",
      "###############################\n",
      "Fitness of best individual: 86%\n",
      "###############################\n",
      "Avarage Fitness after 10 rounds: 88.5\n"
     ]
    }
   ],
   "source": [
    "from IPython.display import clear_output\n",
    "\n",
    "\n",
    "crossoverRate = 70  # 70 / 100 * 100 = 70%\n",
    "mutationRate = 80  # CHANGED !!!!!!!!!!!\n",
    "numberGenerations = 400\n",
    "populationSize = 10\n",
    "\n",
    "# Test 10 Rounds\n",
    "accuracyEvalution = 0.0\n",
    "numberRounds = 10 \n",
    "for x in range (numberRounds):\n",
    "    clear_output(wait=True)\n",
    "    generations, fitnessBest, bestOffspring = evalutionOFProblem(crossoverRate, mutationRate, numberGenerations, populationSize);\n",
    "    \n",
    "    fitnessBestRound = round(fitnessBest *100)\n",
    "    accuracyEvalution = accuracyEvalution + fitnessBestRound\n",
    "\n",
    "clear_output(wait=True)\n",
    "generations, fitnessBest, bestOffspring = evalutionOFProblem(crossoverRate, mutationRate, numberGenerations, populationSize);\n",
    "\n",
    "# Plot Graph \n",
    "plotGraph(generations, numberGenerations+1)\n",
    "print(\"Change MUTATION RATE\")\n",
    "\n",
    "print(\"Best Individual after evalution\")\n",
    "for row in bestOffspring:\n",
    "    print(row)\n",
    "    \n",
    "print(\"###############################\")\n",
    "fitnessBest = round(fitnessBest *100)\n",
    "print(\"Fitness of best individual: \" + str(fitnessBest) + \"%\")\n",
    "print(\"###############################\")\n",
    "result = accuracyEvalution / numberRounds\n",
    "print(\"Avarage Fitness after 10 rounds: \" + str(result))\n",
    "\n"
   ]
  },
  {
   "cell_type": "markdown",
   "metadata": {},
   "source": [
    "After increasing mutation rate accuracy of a system increases because individuals is much more faster going out from stagnation period \n",
    "\n",
    "Avarage Score: 88.5%\n"
   ]
  },
  {
   "cell_type": "markdown",
   "metadata": {},
   "source": [
    "## Change crossover rate - increase\n",
    "\n",
    "Base parameters for our sytem will be:\n",
    "1. Population Size - 10 individuals \n",
    "2. Number of generations - 400 \n",
    "3. Crossover rate = 90%  CHANGED !!!!!!!!!!!\n",
    "4. Mutation rate = 1%\n",
    "\n",
    "We increase crossover rate of our experiment "
   ]
  },
  {
   "cell_type": "code",
   "execution_count": 322,
   "metadata": {
    "scrolled": true
   },
   "outputs": [
    {
     "name": "stdout",
     "output_type": "stream",
     "text": [
      "[[[1, 0, 1, 0, 0, 0, 1, 1, 1, 1, 0, 1, 1, 1, 0, 1, 0], [1, 0, 0, 0, 1, 0, 0, 0, 1, 0, 1, 1, 0, 1, 1, 0, 1], [1, 1, 0, 0, 1, 0, 0, 1, 0, 0, 0, 1, 0, 1, 1, 0, 0], [1, 1, 1, 0, 0, 0, 1, 1, 1, 1, 0, 1, 1, 0, 0, 1, 1], [0, 0, 0, 1, 0, 1, 0, 0, 0, 1, 0, 1, 1, 1, 0, 0, 0]], [[1, 0, 1, 1, 1, 0, 0, 1, 1, 0, 0, 0, 0, 1, 1, 1, 0], [1, 1, 0, 0, 1, 0, 1, 1, 0, 0, 0, 1, 1, 0, 0, 1, 0], [1, 0, 0, 0, 0, 1, 1, 0, 1, 1, 1, 0, 1, 1, 0, 1, 0], [1, 0, 1, 0, 1, 0, 0, 0, 0, 0, 0, 0, 0, 1, 1, 0, 0], [0, 1, 1, 0, 1, 1, 0, 0, 0, 1, 0, 1, 1, 0, 0, 0, 1]], [[1, 0, 1, 0, 0, 0, 0, 0, 1, 1, 0, 0, 0, 0, 0, 1, 0], [0, 1, 0, 1, 0, 0, 0, 1, 1, 0, 1, 0, 1, 0, 0, 1, 1], [0, 0, 1, 1, 1, 1, 1, 1, 1, 1, 1, 1, 0, 1, 1, 1, 0], [0, 0, 0, 1, 1, 0, 1, 0, 0, 0, 0, 1, 1, 1, 0, 1, 1], [1, 0, 0, 0, 1, 1, 0, 1, 1, 0, 1, 0, 0, 0, 1, 1, 0]], [[1, 1, 0, 1, 1, 0, 0, 1, 1, 1, 1, 0, 1, 0, 1, 0, 0], [0, 1, 1, 1, 0, 1, 1, 1, 1, 0, 1, 0, 1, 1, 1, 0, 1], [0, 1, 1, 1, 1, 1, 1, 0, 0, 1, 1, 1, 1, 0, 0, 1, 1], [1, 1, 0, 1, 0, 0, 0, 0, 1, 0, 1, 0, 1, 1, 1, 1, 0], [1, 1, 1, 1, 1, 1, 0, 1, 1, 0, 1, 1, 0, 0, 0, 1, 1]], [[1, 0, 1, 1, 1, 1, 1, 1, 1, 0, 0, 1, 1, 1, 0, 1, 0], [1, 0, 1, 1, 0, 1, 1, 1, 1, 0, 0, 0, 1, 0, 0, 1, 1], [0, 0, 0, 0, 0, 1, 1, 1, 0, 0, 1, 0, 0, 0, 0, 1, 0], [0, 0, 0, 1, 1, 1, 1, 0, 0, 0, 0, 1, 1, 0, 1, 0, 0], [0, 1, 0, 1, 1, 1, 1, 0, 1, 0, 0, 0, 1, 1, 0, 1, 0]], [[1, 0, 0, 1, 1, 0, 0, 1, 1, 0, 1, 0, 0, 1, 1, 1, 1], [1, 0, 0, 1, 1, 1, 1, 0, 1, 1, 0, 0, 0, 1, 1, 1, 0], [1, 0, 0, 1, 1, 1, 0, 1, 1, 1, 0, 1, 0, 0, 1, 1, 1], [0, 1, 1, 0, 1, 0, 0, 1, 0, 1, 1, 1, 1, 0, 0, 0, 1], [1, 0, 0, 0, 0, 0, 1, 0, 1, 0, 1, 0, 1, 0, 0, 1, 0]], [[0, 0, 0, 0, 1, 0, 1, 0, 0, 0, 0, 1, 1, 1, 1, 1, 0], [1, 1, 1, 1, 1, 0, 1, 0, 0, 0, 1, 1, 0, 0, 0, 0, 0], [1, 1, 1, 0, 1, 0, 0, 1, 0, 0, 0, 1, 1, 1, 0, 1, 0], [0, 1, 1, 0, 0, 0, 0, 1, 1, 1, 1, 1, 0, 0, 0, 1, 0], [1, 0, 0, 1, 0, 1, 1, 1, 1, 0, 0, 1, 1, 0, 1, 0, 1]], [[1, 1, 0, 0, 1, 1, 1, 1, 1, 0, 0, 0, 1, 1, 1, 1, 1], [0, 1, 0, 0, 1, 0, 0, 1, 0, 1, 0, 0, 1, 0, 1, 0, 1], [0, 0, 0, 0, 1, 1, 1, 0, 0, 0, 0, 1, 0, 0, 1, 1, 1], [0, 1, 0, 1, 0, 1, 0, 0, 1, 1, 0, 1, 1, 0, 0, 0, 1], [1, 1, 0, 1, 0, 1, 1, 0, 0, 0, 0, 0, 0, 0, 1, 1, 1]], [[1, 1, 1, 1, 1, 0, 0, 1, 0, 0, 0, 0, 0, 1, 1, 1, 1], [1, 0, 1, 0, 0, 1, 0, 1, 0, 1, 0, 1, 1, 1, 0, 0, 0], [0, 1, 1, 0, 0, 1, 1, 1, 0, 1, 0, 1, 1, 0, 0, 1, 1], [0, 0, 0, 0, 1, 0, 0, 1, 1, 1, 1, 1, 0, 1, 0, 1, 1], [1, 0, 1, 1, 0, 0, 1, 1, 0, 1, 1, 1, 1, 1, 1, 0, 0]], [[0, 0, 1, 0, 1, 1, 0, 1, 0, 1, 0, 0, 1, 1, 1, 1, 1], [1, 0, 1, 0, 1, 0, 1, 0, 1, 0, 0, 0, 1, 0, 0, 1, 1], [0, 1, 0, 1, 0, 0, 0, 1, 1, 0, 1, 1, 0, 1, 1, 1, 0], [0, 1, 1, 1, 1, 1, 1, 1, 0, 0, 1, 1, 0, 1, 1, 0, 1], [0, 1, 1, 1, 1, 0, 0, 1, 1, 1, 1, 0, 0, 1, 1, 1, 1]]]\n"
     ]
    },
    {
     "data": {
      "image/png": "[encoded data removed]",
      "text/plain": [
       "<Figure size 432x288 with 1 Axes>"
      ]
     },
     "metadata": {
      "needs_background": "light"
     },
     "output_type": "display_data"
    },
    {
     "name": "stdout",
     "output_type": "stream",
     "text": [
      "Best Individual after evalution\n",
      "[1, 0, 0, 1, 1, 1, 1, 1, 1, 0, 1, 1, 1, 1, 0, 0, 0]\n",
      "[1, 0, 1, 1, 0, 1, 1, 1, 0, 0, 0, 1, 1, 0, 0, 1, 0]\n",
      "[0, 0, 0, 0, 0, 0, 1, 1, 0, 0, 1, 0, 0, 0, 0, 1, 0]\n",
      "[0, 0, 0, 0, 0, 0, 1, 0, 0, 0, 1, 1, 1, 1, 1, 0, 0]\n",
      "[0, 1, 0, 1, 1, 1, 0, 1, 0, 0, 0, 0, 0, 1, 0, 1, 0]\n",
      "###############################\n",
      "Fitness of best individual: 72%\n",
      "###############################\n",
      "Avarage Fitness after 10 rounds: 69.9\n"
     ]
    }
   ],
   "source": [
    "from IPython.display import clear_output\n",
    "\n",
    "\n",
    "crossoverRate = 90 # CHANGED !!!!!!!!!!!\n",
    "mutationRate = 10  # 30 / 1000 * 100 = 3%\n",
    "numberGenerations = 400\n",
    "populationSize = 10\n",
    "\n",
    "# Test 10 Rounds\n",
    "accuracyEvalution = 0.0\n",
    "numberRounds = 10 \n",
    "for x in range (numberRounds):\n",
    "    clear_output(wait=True)\n",
    "    generations, fitnessBest, bestOffspring = evalutionOFProblem(crossoverRate, mutationRate, numberGenerations, populationSize);\n",
    "    \n",
    "    fitnessBestRound = round(fitnessBest *100)\n",
    "    accuracyEvalution = accuracyEvalution + fitnessBestRound\n",
    "\n",
    "clear_output(wait=True)\n",
    "generations, fitnessBest, bestOffspring = evalutionOFProblem(crossoverRate, mutationRate, numberGenerations, populationSize);\n",
    "print(\"Change Crossover Rate\")\n",
    "\n",
    "# Plot Graph \n",
    "plotGraph(generations, numberGenerations+1)\n",
    "\n",
    "print(\"Best Individual after evalution\")\n",
    "for row in bestOffspring:\n",
    "    print(row)\n",
    "    \n",
    "print(\"###############################\")\n",
    "fitnessBest = round(fitnessBest *100)\n",
    "print(\"Fitness of best individual: \" + str(fitnessBest) + \"%\")\n",
    "print(\"###############################\")\n",
    "result = accuracyEvalution / numberRounds\n",
    "print(\"Avarage Fitness after 10 rounds: \" + str(result))\n"
   ]
  },
  {
   "cell_type": "markdown",
   "metadata": {},
   "source": [
    "After increasing crossover rate avarage fitness of program decreases. it is happening propably because less amount of good offsprings copied in a system and recombination happening between mid level offsprings"
   ]
  },
  {
   "cell_type": "markdown",
   "metadata": {},
   "source": [
    "## Optimal solution,\n",
    "\n",
    "Base parameters for our sytem will be:\n",
    "1. Population Size - 10 individuals\n",
    "2. Number of generations - 900 \n",
    "3. Crossover rate = 70% \n",
    "4. Mutation rate =9%\n",
    "\n",
    "We increase crossover rate of our experiment "
   ]
  },
  {
   "cell_type": "code",
   "execution_count": 327,
   "metadata": {},
   "outputs": [
    {
     "name": "stdout",
     "output_type": "stream",
     "text": [
      "[[[0, 0, 0, 0, 1, 0, 0, 1, 1, 1, 1, 0, 1, 1, 0, 0, 0], [0, 0, 0, 0, 0, 0, 1, 1, 1, 1, 1, 1, 0, 0, 0, 0, 1], [0, 1, 0, 1, 0, 1, 1, 1, 1, 0, 1, 0, 1, 0, 0, 1, 0], [1, 1, 0, 1, 0, 1, 0, 0, 0, 0, 1, 1, 1, 0, 1, 1, 1], [0, 0, 0, 1, 0, 0, 0, 1, 0, 0, 0, 0, 1, 0, 1, 0, 1]], [[0, 0, 0, 0, 0, 1, 0, 1, 0, 0, 0, 0, 0, 0, 1, 0, 1], [1, 1, 1, 0, 1, 1, 0, 1, 1, 1, 1, 0, 0, 1, 0, 1, 1], [1, 1, 1, 0, 1, 1, 1, 0, 0, 0, 1, 0, 0, 0, 1, 1, 1], [1, 0, 1, 1, 0, 1, 0, 1, 1, 0, 0, 1, 1, 1, 0, 0, 0], [0, 1, 1, 1, 0, 1, 0, 0, 1, 1, 1, 0, 1, 0, 1, 1, 1]], [[0, 1, 0, 0, 1, 0, 0, 0, 1, 1, 1, 0, 1, 0, 0, 1, 1], [1, 0, 1, 0, 1, 1, 1, 1, 1, 0, 1, 0, 1, 0, 0, 1, 1], [0, 0, 1, 0, 1, 0, 1, 0, 1, 0, 1, 0, 0, 0, 0, 1, 1], [0, 1, 0, 1, 0, 1, 1, 1, 1, 0, 0, 1, 1, 1, 0, 1, 0], [0, 0, 1, 1, 1, 1, 1, 1, 1, 0, 1, 0, 0, 0, 1, 0, 0]], [[0, 0, 1, 1, 1, 0, 1, 1, 0, 0, 0, 0, 1, 1, 0, 1, 0], [1, 1, 0, 1, 1, 0, 1, 1, 1, 0, 0, 0, 1, 1, 1, 0, 0], [0, 0, 1, 0, 0, 1, 0, 0, 1, 0, 0, 0, 0, 0, 0, 1, 0], [1, 1, 0, 0, 0, 0, 0, 1, 1, 1, 1, 1, 0, 0, 0, 1, 0], [0, 1, 0, 1, 1, 0, 0, 1, 1, 0, 1, 1, 1, 1, 0, 0, 0]], [[1, 0, 0, 1, 1, 1, 0, 1, 1, 1, 0, 1, 1, 0, 1, 0, 0], [1, 0, 0, 0, 1, 1, 0, 0, 1, 0, 0, 1, 0, 1, 1, 1, 0], [0, 0, 1, 1, 0, 0, 1, 1, 0, 0, 0, 1, 1, 1, 1, 1, 0], [0, 0, 1, 1, 0, 1, 1, 1, 1, 1, 1, 0, 0, 0, 0, 1, 1], [0, 0, 0, 0, 1, 0, 0, 0, 0, 0, 0, 1, 1, 0, 0, 0, 1]], [[0, 0, 0, 1, 0, 0, 1, 0, 0, 0, 0, 1, 0, 0, 1, 0, 1], [0, 0, 1, 0, 0, 0, 1, 1, 1, 0, 0, 0, 1, 0, 0, 1, 0], [0, 0, 1, 0, 1, 0, 1, 0, 1, 0, 1, 0, 1, 0, 0, 1, 1], [0, 0, 0, 0, 0, 0, 1, 1, 0, 0, 0, 1, 0, 0, 0, 0, 1], [0, 0, 0, 0, 1, 0, 1, 1, 1, 1, 1, 1, 1, 0, 1, 1, 0]], [[1, 0, 0, 1, 0, 0, 0, 1, 1, 1, 1, 1, 0, 1, 1, 1, 0], [1, 0, 1, 1, 0, 0, 0, 1, 1, 1, 1, 0, 1, 0, 0, 0, 1], [1, 1, 1, 0, 1, 0, 1, 0, 1, 1, 1, 0, 1, 1, 1, 1, 0], [0, 0, 1, 0, 1, 1, 0, 1, 0, 0, 1, 0, 1, 0, 1, 0, 1], [1, 0, 0, 0, 1, 0, 0, 1, 1, 1, 1, 1, 0, 0, 0, 0, 1]], [[0, 1, 1, 0, 0, 0, 1, 0, 0, 1, 0, 1, 1, 1, 1, 0, 1], [1, 0, 0, 1, 1, 0, 0, 0, 0, 1, 0, 0, 1, 0, 1, 0, 1], [0, 1, 1, 1, 0, 1, 0, 0, 1, 0, 1, 1, 1, 1, 1, 0, 1], [1, 0, 1, 1, 0, 0, 0, 0, 1, 0, 1, 1, 0, 0, 1, 1, 0], [0, 0, 0, 0, 1, 0, 0, 1, 1, 1, 0, 0, 1, 0, 1, 1, 0]], [[1, 0, 1, 1, 0, 1, 0, 1, 1, 1, 0, 1, 0, 0, 1, 1, 1], [0, 0, 0, 0, 1, 1, 0, 1, 0, 1, 1, 1, 0, 0, 0, 1, 0], [0, 1, 0, 0, 0, 0, 0, 1, 1, 1, 0, 0, 0, 1, 0, 0, 1], [0, 0, 1, 0, 0, 1, 0, 1, 0, 1, 1, 0, 0, 0, 1, 1, 1], [1, 0, 1, 0, 1, 0, 0, 1, 0, 1, 1, 1, 1, 1, 0, 0, 0]], [[1, 0, 0, 1, 0, 0, 0, 1, 1, 1, 1, 0, 1, 0, 0, 1, 1], [1, 0, 0, 1, 1, 0, 1, 0, 0, 1, 1, 1, 0, 1, 1, 0, 1], [1, 0, 0, 0, 1, 0, 0, 1, 0, 1, 0, 1, 1, 0, 0, 0, 1], [1, 1, 0, 1, 0, 1, 0, 0, 0, 1, 0, 0, 1, 0, 0, 0, 0], [0, 0, 0, 0, 1, 0, 1, 0, 0, 1, 1, 0, 1, 1, 1, 0, 1]], [[0, 0, 1, 0, 0, 1, 0, 0, 0, 1, 1, 1, 0, 0, 1, 0, 1], [1, 1, 0, 1, 0, 1, 0, 1, 1, 0, 1, 1, 0, 1, 1, 1, 0], [1, 1, 1, 0, 1, 1, 1, 1, 0, 0, 1, 1, 1, 1, 0, 0, 0], [0, 1, 0, 0, 1, 0, 0, 0, 1, 0, 1, 1, 1, 1, 1, 0, 1], [1, 1, 1, 1, 0, 1, 0, 0, 0, 1, 1, 1, 1, 0, 1, 0, 1]], [[1, 0, 1, 1, 1, 0, 0, 0, 0, 0, 0, 1, 0, 0, 1, 1, 0], [0, 0, 0, 1, 1, 1, 1, 1, 1, 1, 0, 0, 1, 0, 1, 0, 0], [0, 1, 1, 1, 0, 1, 1, 0, 1, 0, 0, 0, 0, 0, 0, 1, 0], [1, 0, 0, 0, 1, 0, 0, 1, 0, 1, 0, 0, 0, 1, 0, 0, 1], [1, 0, 1, 1, 1, 1, 1, 1, 0, 1, 1, 1, 1, 1, 1, 0, 1]], [[1, 0, 1, 1, 0, 1, 0, 1, 0, 0, 0, 1, 1, 1, 1, 0, 1], [1, 1, 0, 1, 1, 1, 0, 0, 1, 0, 0, 1, 0, 1, 1, 1, 0], [1, 0, 0, 1, 1, 1, 0, 0, 0, 0, 1, 1, 0, 1, 0, 0, 0], [0, 0, 0, 0, 0, 1, 0, 0, 0, 1, 0, 1, 0, 1, 1, 0, 1], [1, 0, 1, 0, 0, 0, 0, 0, 1, 1, 0, 0, 1, 1, 0, 1, 0]], [[1, 0, 0, 0, 1, 0, 0, 0, 1, 0, 0, 1, 1, 1, 0, 0, 0], [1, 1, 1, 1, 0, 0, 1, 1, 0, 0, 0, 0, 0, 1, 1, 0, 0], [0, 1, 1, 1, 1, 1, 1, 1, 1, 1, 0, 0, 0, 1, 1, 1, 0], [0, 1, 1, 1, 1, 1, 0, 1, 0, 0, 0, 0, 0, 0, 1, 1, 0], [1, 1, 0, 0, 1, 0, 1, 0, 0, 1, 0, 0, 1, 0, 1, 0, 1]], [[1, 1, 1, 0, 1, 1, 0, 1, 1, 1, 0, 1, 1, 0, 0, 1, 1], [0, 1, 0, 0, 0, 1, 1, 1, 1, 1, 0, 0, 0, 0, 1, 0, 1], [1, 0, 1, 0, 0, 0, 1, 0, 1, 0, 1, 1, 1, 0, 1, 1, 0], [1, 1, 0, 0, 1, 1, 1, 1, 0, 1, 0, 0, 0, 1, 1, 0, 1], [0, 0, 1, 1, 1, 1, 0, 1, 0, 1, 0, 1, 1, 0, 0, 0, 0]]]\n"
     ]
    },
    {
     "data": {
      "image/png": "[encoded data removed]",
      "text/plain": [
       "<Figure size 432x288 with 1 Axes>"
      ]
     },
     "metadata": {
      "needs_background": "light"
     },
     "output_type": "display_data"
    },
    {
     "name": "stdout",
     "output_type": "stream",
     "text": [
      "Best Individual after evalution\n",
      "[0, 0, 0, 1, 1, 1, 1, 0, 0, 0, 0, 0, 1, 1, 0, 0, 0]\n",
      "[0, 0, 1, 0, 0, 0, 0, 1, 0, 0, 0, 1, 0, 1, 1, 0, 0]\n",
      "[0, 1, 0, 0, 0, 0, 0, 0, 0, 0, 1, 0, 0, 0, 1, 1, 0]\n",
      "[1, 0, 1, 0, 0, 1, 1, 1, 0, 0, 1, 1, 1, 1, 1, 1, 0]\n",
      "[0, 0, 0, 1, 1, 0, 0, 1, 0, 0, 1, 0, 0, 0, 0, 1, 0]\n",
      "###############################\n",
      "Fitness of best individual: 98%\n",
      "###############################\n",
      "Avarage Fitness after 10 rounds: 97.1\n"
     ]
    }
   ],
   "source": [
    "from IPython.display import clear_output\n",
    "\n",
    "print(\"Optimal\")\n",
    "\n",
    "crossoverRate = 70  # 70 / 100 * 100 = 70%\n",
    "mutationRate = 90  # 90 / 1000 * 100 = 9%\n",
    "numberGenerations = 900\n",
    "populationSize = 15\n",
    "\n",
    "# Test 20 Rounds\n",
    "accuracyEvalution = 0.0\n",
    "numberRounds = 10 \n",
    "for x in range (numberRounds):\n",
    "    clear_output(wait=True)\n",
    "    generations, fitnessBest, bestOffspring = evalutionOFProblem(crossoverRate, mutationRate, numberGenerations, populationSize);\n",
    "    \n",
    "    fitnessBestRound = round(fitnessBest *100)\n",
    "    accuracyEvalution = accuracyEvalution + fitnessBestRound\n",
    "\n",
    "clear_output(wait=True)\n",
    "generations, fitnessBest, bestOffspring = evalutionOFProblem(crossoverRate, mutationRate, numberGenerations, populationSize);\n",
    "\n",
    "# Plot Graph \n",
    "plotGraph(generations, numberGenerations+1)\n",
    "\n",
    "print(\"Best Individual after evalution\")\n",
    "for row in bestOffspring:\n",
    "    print(row)\n",
    "    \n",
    "print(\"###############################\")\n",
    "fitnessBest = round(fitnessBest *100)\n",
    "print(\"Fitness of best individual: \" + str(fitnessBest) + \"%\")\n",
    "print(\"###############################\")\n",
    "result = accuracyEvalution / numberRounds\n",
    "print(\"Avarage Fitness after 10 rounds: \" + str(result))"
   ]
  },
  {
   "cell_type": "markdown",
   "metadata": {},
   "source": [
    "### Why do you think is the parameter combination successful?\n",
    "\n",
    "I think that this combination successful because it is show quite stable progression during all time period without big areas of stagnation and with quite good linear trend.\n",
    "\n",
    "### Are there any drawbacks when using the identified parameter combination?\n",
    "\n",
    "THe main drawbacks is that we dont know the most optimal combination of Population Size, Number of generations, Crossover rate,\n",
    "Mutation rate. It can be find only by test and trials of different options"
   ]
  },
  {
   "cell_type": "markdown",
   "metadata": {},
   "source": [
    "## Part 3: Optimization Problem \n",
    "\n",
    "Step 1: Modify Fitness function in a library for Beale function\n",
    "\n",
    "Beale function formula:\n",
    "\n",
    "#### result = (1.5 - x + x*y)**2 + (2.25 - x + x*y**2)**2 + (2.625 - x + x*y**3)**2\n",
    "\n",
    "Step 1: Update Fitness Function"
   ]
  },
  {
   "cell_type": "code",
   "execution_count": 379,
   "metadata": {},
   "outputs": [],
   "source": [
    "import random\n",
    "import collections\n",
    "\n",
    "class steadyStateBinaryGAOptimization:\n",
    "\n",
    "    def __init__(self, populationSize, genotypeRow, genotypeColumn):\n",
    "        self.populationSize = populationSize\n",
    "        self.genotypeRow = genotypeRow\n",
    "        self.genotypeColumn = genotypeColumn\n",
    "        self.populationArray = []\n",
    "        self.populationEstimation = {}\n",
    "        self.generateRandomPopulation()\n",
    "\n",
    "    def generateRandomPopulation(self):\n",
    "\n",
    "        for child in range(self.populationSize):\n",
    "            newColumn = []\n",
    "            for x in range(self.genotypeRow):\n",
    "                newRow = []\n",
    "                for y in range(self.genotypeColumn):\n",
    "                    if random.randint(0, 100) < random.randint(0, 100):\n",
    "                        newRow.append(0)\n",
    "                    else:\n",
    "                        newRow.append(1)\n",
    "                newColumn.append(newRow)\n",
    "            self.populationArray.append(newColumn)\n",
    "        print(self.populationArray)\n",
    "        return self.populationArray\n",
    "\n",
    "    def estimateFitness(self, target):\n",
    "        ## UPDATE\n",
    "        # target is 16 bit, first 8 bit firt value, second 8 bit - second value \n",
    "        x = self.dec(target[0][:8]) - 127\n",
    "        y = self.dec(target[0][8:]) - 127\n",
    "        \n",
    "        return -((1.5 - x + x*y)**2 + (2.25 - x + x*y**2)**2 + (2.625 - x + x*y**3)**2)\n",
    "\n",
    "    def selection(self, firstIndividum, secondIndividum):\n",
    "        counter = 0\n",
    "\n",
    "        for individual in self.populationArray:\n",
    "            individualFitness = self.estimateFitness(individual)\n",
    "            self.populationEstimation[counter] = individualFitness\n",
    "            counter = counter + 1\n",
    "\n",
    "        self.populationEstimation = sorted(self.populationEstimation.items(), key=lambda kv: kv[1], reverse=True)\n",
    "        # take choisen individum\n",
    "        female = self.populationArray[self.populationEstimation[firstIndividum][0]]\n",
    "        male = self.populationArray[self.populationEstimation[secondIndividum][0]]\n",
    "        self.populationEstimation = self.Convert(self.populationEstimation)\n",
    "        return female, male\n",
    "\n",
    "    def crossover(self, female, male):\n",
    "\n",
    "        offspring = []\n",
    "        cut = random.randint(1, self.genotypeColumn - 1)  # randomy select cut point\n",
    "\n",
    "        for x in range(self.genotypeRow):\n",
    "            offspringRow = female[x][0:cut] + male[x][cut:]\n",
    "            offspring.append(offspringRow)\n",
    "\n",
    "        return offspring\n",
    "\n",
    "    def mutation(self, offspring, numberMutationPoints):\n",
    "\n",
    "        randomRowMutationPoint = 0  # randomy select cut point\n",
    "        randomColumnMutationPoint = random.randint(0, self.genotypeColumn - 1)  # randomy select cut point\n",
    "\n",
    "        if offspring[randomRowMutationPoint][randomColumnMutationPoint] == 0:\n",
    "            offspring[randomRowMutationPoint][randomColumnMutationPoint] = 1\n",
    "        else:\n",
    "            offspring[randomRowMutationPoint][randomColumnMutationPoint] = 0\n",
    "\n",
    "        return offspring\n",
    "\n",
    "    def checkWorst(self, offspring):\n",
    "        targetFitness = self.estimateFitness(offspring)\n",
    "        currentWorstKey = list(self.populationEstimation.keys())[-1]\n",
    "        currentWorstValue = self.populationEstimation[currentWorstKey]\n",
    "        if currentWorstValue >= targetFitness:\n",
    "            return True\n",
    "        else:\n",
    "            return False\n",
    "\n",
    "    def replaceWorst(self, offspring):\n",
    "        currentWorstKey = list(self.populationEstimation.keys())[-1]\n",
    "        self.populationArray[currentWorstKey] = offspring\n",
    "\n",
    "    def getBestOffspring(self):\n",
    "        bestOffspringKey = list(self.populationEstimation.keys())[0]\n",
    "        return self.populationArray[bestOffspringKey], self.populationEstimation[bestOffspringKey]\n",
    "\n",
    "    def Convert(self, a):\n",
    "        res_dct = dict(a)\n",
    "        return res_dct\n",
    "    \n",
    "    def dec(self, chromosome):\n",
    "        d = 0\n",
    "        for i in range(len(chromosome)):\n",
    "            if chromosome[i] == 1:\n",
    "                d += 2**i\n",
    "        return d\n",
    "\n"
   ]
  },
  {
   "cell_type": "markdown",
   "metadata": {},
   "source": [
    "Step 2: a little bit update evaluation procces function"
   ]
  },
  {
   "cell_type": "code",
   "execution_count": 380,
   "metadata": {},
   "outputs": [],
   "source": [
    "def evalutionOFProblemOptimization(crossoverRate, mutationRate, numberGenerations, populationSize):\n",
    "\n",
    "    crossoverRate = crossoverRate  # 70 / 100 * 100 = 70%\n",
    "    mutationRate = mutationRate  # 30 / 1000 * 100 = 3%\n",
    "    numberGenerations = numberGenerations\n",
    "    populationSize = populationSize\n",
    "    generationBestArray = []\n",
    "    BestResult = []\n",
    "    \n",
    "    # Make 16 bit representation\n",
    "    program = steadyStateBinaryGAOptimization(populationSize, 1, 16,)\n",
    "\n",
    "    currentGeneration = 0\n",
    "    while currentGeneration <= numberGenerations:\n",
    "\n",
    "        selectBestMale = 0\n",
    "        selectBestFemale = 1\n",
    "\n",
    "        while True:\n",
    "\n",
    "            female, male = program.selection(selectBestMale, selectBestFemale)\n",
    "\n",
    "            r = random.randrange(0, 100)\n",
    "\n",
    "            if r < crossoverRate:\n",
    "                offspring = program.crossover(female, male)\n",
    "            else:\n",
    "                offspring, estimation = program.getBestOffspring()\n",
    "\n",
    "            r = random.randrange(0, 1000)\n",
    "            numberOFMutationPoints = random.randrange(1, 5)\n",
    "\n",
    "            if r < mutationRate:\n",
    "                offspring = program.mutation(offspring, numberOFMutationPoints)\n",
    "\n",
    "            if program.checkWorst(offspring) and not (selectBestFemale >= populationSize - 1):\n",
    "                selectBestMale = selectBestMale + 1\n",
    "                selectBestFemale = selectBestFemale + 1\n",
    "            else:\n",
    "                program.replaceWorst(offspring)\n",
    "                break\n",
    "\n",
    "        currentBestOffspring, estimation = program.getBestOffspring()\n",
    "        generationBestArray.append(estimation)\n",
    "        currentGeneration = currentGeneration + 1\n",
    "        if currentGeneration >= numberGenerations:\n",
    "            BestResult = currentBestOffspring\n",
    "\n",
    "    return generationBestArray, generationBestArray[-1], BestResult"
   ]
  },
  {
   "cell_type": "markdown",
   "metadata": {},
   "source": [
    "Step 3: Test"
   ]
  },
  {
   "cell_type": "code",
   "execution_count": 419,
   "metadata": {},
   "outputs": [
    {
     "name": "stdout",
     "output_type": "stream",
     "text": [
      "[[[1, 0, 0, 1, 1, 1, 1, 0, 1, 1, 1, 0, 0, 1, 1, 1]], [[0, 1, 1, 1, 0, 1, 0, 0, 1, 0, 0, 1, 0, 0, 0, 1]], [[1, 1, 0, 0, 0, 1, 0, 0, 1, 1, 1, 0, 1, 1, 1, 0]], [[1, 0, 0, 1, 0, 0, 0, 0, 0, 1, 0, 0, 1, 0, 1, 1]], [[1, 0, 0, 0, 0, 1, 0, 0, 0, 0, 0, 1, 1, 1, 0, 0]], [[0, 1, 1, 1, 0, 0, 1, 1, 0, 1, 0, 1, 1, 0, 0, 1]], [[1, 0, 0, 0, 1, 0, 0, 1, 1, 1, 1, 0, 1, 0, 1, 0]], [[1, 0, 0, 1, 1, 0, 0, 0, 1, 1, 0, 0, 0, 0, 0, 1]], [[0, 0, 1, 1, 1, 1, 0, 1, 0, 1, 0, 1, 1, 1, 1, 1]], [[0, 1, 1, 0, 1, 0, 0, 0, 1, 0, 1, 0, 0, 1, 1, 0]]]\n"
     ]
    },
    {
     "data": {
      "image/png": "[encoded data removed]",
      "text/plain": [
       "<Figure size 432x288 with 1 Axes>"
      ]
     },
     "metadata": {
      "needs_background": "light"
     },
     "output_type": "display_data"
    },
    {
     "name": "stdout",
     "output_type": "stream",
     "text": [
      "[[0, 0, 0, 0, 0, 0, 0, 1, 1, 0, 0, 0, 0, 0, 0, 1]]\n",
      "Best Individual after evalution\n",
      "X variable = 128 Y variable = 129\n"
     ]
    }
   ],
   "source": [
    "from IPython.display import clear_output\n",
    "\n",
    "def dec(chromosome):\n",
    "    d = 0\n",
    "    for i in range(len(chromosome)):\n",
    "        if chromosome[i] == 1:\n",
    "            d += 2**i\n",
    "    return d\n",
    "\n",
    "print(\"Optimal\")\n",
    "\n",
    "crossoverRate = 80  # 70 / 100 * 100 = 70%\n",
    "mutationRate = 70  # 90 / 1000 * 100 = 9%\n",
    "numberGenerations = 100\n",
    "populationSize = 10\n",
    "\n",
    "\n",
    "clear_output(wait=True)\n",
    "generations, fitnessBest, bestOffspring = evalutionOFProblemOptimization(crossoverRate, mutationRate, numberGenerations, populationSize);\n",
    "\n",
    "# Plot Graph \n",
    "plotGraph(generations, numberGenerations+1)\n",
    "\n",
    "print(bestOffspring)\n",
    "\n",
    "print(\"Best Individual after evalution\")\n",
    "print(\"X variable = \" + str(dec(bestOffspring[0][:8])) + \" Y variable = \" + str(dec(bestOffspring[0][8:])))\n",
    "    \n"
   ]
  },
  {
   "cell_type": "markdown",
   "metadata": {},
   "source": [
    "## Briefly describe and discuss the behaviour of the GA. \n",
    "\n",
    "GA is trying to maximaze function output, we constract fitness function in a way that it display output in negative format bet GA is trying to maximize it to get fitness result closer to 0 our max point\n",
    "\n",
    "## Which representation did you use?\n",
    "I was using binary representation for this problem, chromosome consist of 2 genes, first gene represent X vale, second gene represent Y value\n",
    "\n",
    "## Did the GA find the minimum or maximum?\n",
    "\n",
    "Yes, GA has come veru close to final value X variable = 128 Y variable = 129\n",
    "\n",
    "## Did you have to adjust the hyper-parameters?\n",
    "Yes, I change number of generations and increase mutation rate\n",
    "\n",
    "## How can you improve the solution?\n",
    "I can immprove solution by asking GA not to do search till some number of generations bet instead of it find till fitness will be equal 0. Also better solution can be found in real value data range, therefore program have potential to be improved"
   ]
  },
  {
   "cell_type": "markdown",
   "metadata": {},
   "source": [
    "# Part 5: Self-assessment:\n",
    "\n",
    "Part 1 - I think I made good job, I have shown step by step implementation of Steady-State Binary GA and created library in OOP style. -I create implementation which is able to come closer than 96% to goal value, I think that it is very good solution\n",
    "\n",
    "PArt 2 -I tried to change and explain 3 Hyper-parameter: population size, generations, crossover rate and mutation rate, therefore it must be enough for good mark\n",
    "\n",
    "Part 3 - I adapted code from part 1 and 2 to take integer value bet not bite images, also fitness function is come very close to 0, therefore soluton must be good, bet I havent done one constrained optimisation function due to lack of time\n",
    "\n",
    "Part 4 - I would like to do part 4 bet I dont have time for it"
   ]
  },
  {
   "cell_type": "code",
   "execution_count": null,
   "metadata": {},
   "outputs": [],
   "source": []
  }
 ],
 "metadata": {
  "kernelspec": {
   "display_name": "Python 3",
   "language": "python",
   "name": "python3"
  },
  "language_info": {
   "codemirror_mode": {
    "name": "ipython",
    "version": 3
   },
   "file_extension": ".py",
   "mimetype": "text/x-python",
   "name": "python",
   "nbconvert_exporter": "python",
   "pygments_lexer": "ipython3",
   "version": "3.7.4"
  }
 },
 "nbformat": 4,
 "nbformat_minor": 2
}
